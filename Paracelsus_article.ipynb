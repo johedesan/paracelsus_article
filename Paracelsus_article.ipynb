{
 "cells": [
  {
   "cell_type": "markdown",
   "id": "8ea9fca3",
   "metadata": {},
   "source": [
    "## Fire, Vulcanus and Archeus in Paracelsus"
   ]
  },
  {
   "cell_type": "markdown",
   "id": "8841b951",
   "metadata": {},
   "source": [
    "#### This file represents the backing code for the Paracelsus article (Ambix)"
   ]
  },
  {
   "cell_type": "markdown",
   "id": "e4e8c207",
   "metadata": {},
   "source": [
    "#### Acknowledgments: Thank you to Dr Urs Leo Gantenbein and Dr Didier Kahn for making available electronic copies of the transcriptions of the Paracelsus corpus as published by Johannes Huser between 1589 and 1605."
   ]
  },
  {
   "cell_type": "markdown",
   "id": "5e399065",
   "metadata": {},
   "source": [
    "#### Please refer to https://www.paracelsus-project.org/ for details on how transcription was carried out. The transcriptions were saved in Word format, divided by volume. In advance of carrying out the work below, I put together the transcriptions into one text document (.txt). I made all the text lower case, removed non-alpha characters and tokenised it with the support of the NLTK module of Python. The resulting list was placed in a json file for fast access. To run this in the current form you need to create a Paracelsus folder separate from the working directory and download the json file in it."
   ]
  },
  {
   "cell_type": "code",
   "execution_count": 47,
   "id": "61947087",
   "metadata": {
    "ExecuteTime": {
     "end_time": "2024-06-06T21:23:37.890847200Z",
     "start_time": "2024-06-06T21:23:29.036956900Z"
    }
   },
   "outputs": [],
   "source": [
    "\"\"\"Import the necessary libraries\"\"\"\n",
    "import json\n",
    "import re\n",
    "import pandas as pd\n",
    "import numpy as np\n",
    "import matplotlib.pyplot as plt\n",
    "import nltk\n",
    "from collections import Counter\n",
    "import seaborn as sns\n",
    "import squarify"
   ]
  },
  {
   "cell_type": "code",
   "execution_count": 11,
   "id": "749e1740",
   "metadata": {
    "ExecuteTime": {
     "end_time": "2024-06-06T20:55:09.891637400Z",
     "start_time": "2024-06-06T20:55:09.376074800Z"
    }
   },
   "outputs": [
    {
     "name": "stdout",
     "output_type": "stream",
     "text": [
      "['c', 'works/he01.txt', 'erster', 'theil', 'der', 'bücher', 'vnd', 'schrifften', 'desedlen', 'hochgelehrtenvnd', 'bewehrten', 'philosophivnnd', 'medici', 'philippi', 'theophrastibombast', 'von', 'hohenheim/', 'paracelsigenannt', 'jetzt', 'auffs', 'new', 'auß', 'den', 'originalien', 'vndtheophrasti', 'eigner', 'handschrifft', 'souiel', 'derselben', 'zubekommengewesen', 'auffs', 'trewlichst', 'vndfleissigst', 'an', 'tag', 'geben', 'durchiohannem', 'hvservm', 'brisgoivmchurfürstlichen', 'cölnischen', 'rhat', 'vnndmedicvm', 'in', 'diesem', 'theil', 'werden', 'begriffen', 'die', 'bücher', 'welche', 'von', 'vrsprung', 'vnd', 'herkommen', 'aller', 'kranckheiten', 'handeln', 'in', 'genere', 'deren', 'catalogus', 'nach', 'der', 'præfation', 'an', 'den', 'leser', 'zu', 'finden', 'adiunctus', 'est', 'index', 'rerum', 'verborum', 'accuratiss', 'copiosissimus.getruckt', 'zu', 'basel', 'durchconrad', 'waldkirch', 'anno', 'm.', 'd.', 'lxxxix', 'dem', 'hochwürdigsten', 'in', 'gott', 'durchleüchtigsten', 'hochgebornen', 'fürsten', 'vnd', 'herrn', 'herrn', 'ernesto', 'erwehlten', 'vnd', 'bestettigten', 'zu', 'ertzbischoffen', 'zu', 'cöln', 'vnd', 'churfürsten', 'bischoffen', 'zu', 'lüttich', 'der', 'stifft', 'münster', 'hildeßheim', 'vnd', 'freysingen', 'administratori', 'fürsten', 'zu', 'stabel', 'pfaltzgrauen', 'bey', 'rhein', 'in', 'ober', 'vnd', 'nider', 'bayern', 'zu', 'westphalen', 'engern', 'vnd', 'bullion', 'hertzogen', 'marggrauen', 'zu', 'francimont', 'grauen', 'zu', 'loe', 'vnd', 'horn', 'etc', 'meinem', 'gnedigsten', 'churfürsten', 'vnnd', 'herrn', 'hochwürdigster', 'in', 'gott', 'durchleuchtigster', 'hochgeborner', 'churfürst', 'gnedigster', 'herr', 'wie', 'hochnöttig', 'vnnd', 'nutzlich', 'die', 'kunst', 'der', 'artzney', 'menschlichem', 'geschlecht', 'sey', 'ist', 'vnnöttig', 'mit', 'vielen', 'worten', 'zuerzehlen', 'wie', 'hoch', 'auch', 'allwegen', 'gelehrte', 'vnd', 'erfahrne', 'artzte', 'gehalten', 'worden', 'bezeuget', 'nicht', 'allein', 'die', 'heydnische', 'sondern', 'auch', 'die', 'göttliche', 'geschrifft', 'denn', 'was', 'kan', 'im', 'liecht', 'der', 'natur', 'vber', 'die', 'artzney', 'höhers', 'erfunden', 'werden', 'nun', 'stehet', 'aber', 'dieselbe', 'nicht', 'wie', 'etliche', 'andere', 'künste', 'in', 'worten', 'sondern', 'in', 'den', 'wercken', 'der', 'gesundmachung', 'weil', 'aber', 'dasselbige', 'bey', 'jr', 'vielen', 'vergessen', 'vnnd', 'einem', 'artzt', 'gnug', 'zusein', 'vermeinet', 'worden', 'so', 'er', 'von', 'den', 'kranckheiten', 'wie', 'dieselben', 'von', 'etlichen', 'alten', 'griechen', 'vnd', 'arabern', 'beschrieben', 'disputiren', 'vnd', 'weitleufftig', 'reden', 'könne', 'es', 'volge', 'das', 'werck', 'der', 'gesundmachung', 'darauff', 'oder', 'nit', 'ohnbetracht', 'das', 'newe', 'zeit', 'newe', 'kranckheiten', 'vnd', 'künst', 'herfür', 'bringet', 'ist', 'die', 'artzney', 'nach', 'vnd', 'nach', 'in', 'solchen', 'abfall', 'kommen', 'daß', 'sie', 'schier', 'bey', 'menniglichen', 'verachtet', 'vnnd', 'darfür', 'gehalten', 'worden', 'daß', 'darinnen', 'gar', 'keine', 'gewißheit', 'zu', 'befinden', 'sey', 'als', 'nun', 'solches', 'zu', 'vnseren', 'zeiten', 'etliche', 'tieffsinnige', 'männer', 'erwogen', 'haben', 'sie', 'den', 'dingen', 'mit', 'ernst', 'nach', 'getrachtet', 'vnnd', 'nachgesucht', 'vnnd', 'auß', 'erforschung', 'des', 'rechten', 'vhralten', 'grunds', 'befunden', 'daß', 'der', 'auff', 'welchen', 'dieser', 'zeit', 'die', 'artzney', 'gebawet', 'an', 'vilen', 'ohrten', 'jrrig', 'sey', 'vnter', 'welchen', 'fürnemlich', 'theophrastvs', 'paracelsvs', 'edles', 'teutschen', 'geblüts', 'einer', 'gewesen', 'welcher', 'dem', 'waren', 'grundt', 'der', 'artzney', 'am', 'embsigsten', 'nachgesucht', 'vnnd', 'durch', 'die', 'gnade', 'gottes', 'denselben', 'erlangt', 'vnd', 'darauß', 'die', 'gantze', 'philosophey', 'vnd', 'medicin', 'restauriret', 'hat', 'weil', 'aber', 'gemelter', 'paracelsus', 'bey', 'seinem', 'leben', 'auß', 'viler', 'verhinderung', 'auch', 'wegen', 'vielfaltiges', 'reisens', 'seine', 'scripta', 'nicht', 'hat', 'publiciren', 'können', 'sondern', 'dieselben', 'hin', 'vnd', 'wider', 'zerstrewet', 'hinter', 'sich', 'verlassen', 'seindt', 'dieselbigen', 'von', 'etlichen', 'der', 'spagyrischen', 'artzney', 'liebhabern', 'eins', 'theils', 'hin', 'vnd', 'wider', 'zusammen', 'gebracht', 'vnnd', 'andern', 'dieselbigen', 'in', 'truck', 'zuverfertigen', 'gegeben', 'worden', 'welche', 'auß', 'vnfleiß', 'zum', 'theil', 'auch', 'auß', 'neydt', 'die', 'hochnützlichen', 'scripta', 'des', 'hochbegabten', 'thewren', 'paracelsi', 'nicht', 'allein', 'gar', 'mendose', 'trucken', 'lassen', 'sondern', 'auch', 'an', 'viel', 'ohrten', 'gar', 'verkehrt', 'vnd', 'gantze', 'folia', 'vnd', 'periodos', 'etc', 'außgelassen', 'haben', 'als', 'ich', 'nun', 'solchs', 'durch', 'collationirung', 'etlicher', 'exemplarien', 'gegen', 'den', 'originalen', 'so', 'ich', 'bey', 'mir', 'gehabt', 'befunden', 'hab', 'ich', 'von', 'etlichen', 'viel', 'jahren', 'her', 'gewünschet', 'das', 'dieses', 'thewren', 'teutschen', 'philosophi', 'vnd', 'medici', 'scripta', 'möchten', 'genuine']\n"
     ]
    }
   ],
   "source": [
    "\"\"\"Loading the json file\"\"\"\n",
    "\n",
    "with open(\"Paracelsus/paraloweralphatokens.json\", 'r') as f:\n",
    "    lowercase = json.load(f)\n",
    "print(lowercase[0:500])"
   ]
  },
  {
   "cell_type": "code",
   "execution_count": 12,
   "id": "489c19e5",
   "metadata": {
    "ExecuteTime": {
     "end_time": "2024-06-06T20:55:39.454119700Z",
     "start_time": "2024-06-06T20:55:39.389409300Z"
    }
   },
   "outputs": [
    {
     "name": "stdout",
     "output_type": "stream",
     "text": [
      "Number of word tokens:  2314632\n"
     ]
    }
   ],
   "source": [
    "\"\"\"Calculating total number of tokens in Paracelsus's corpus\"\"\"\n",
    "print(\"Number of word tokens: \", len(lowercase))"
   ]
  },
  {
   "cell_type": "code",
   "execution_count": 13,
   "id": "8465d950",
   "metadata": {
    "ExecuteTime": {
     "end_time": "2024-06-06T20:55:52.539309900Z",
     "start_time": "2024-06-06T20:55:52.465768900Z"
    },
    "scrolled": true
   },
   "outputs": [
    {
     "name": "stdout",
     "output_type": "stream",
     "text": [
      "c works/he01.txt erster theil der bücher vnd schrifften desedlen hochgelehrtenvnd bewehrten philosophivnnd medici philippi theophrastibombast von hohenheim/ paracelsigenannt jetzt auffs new auß den originalien vndtheophrasti eigner handschrifft souiel derselben zubekommengewesen auffs trewlichst vndfleissigst an tag geben durchiohannem hvservm brisgoivmchurfürstlichen cölnischen rhat vnndmedicvm in diesem theil werden begriffen die bücher welche von vrsprung vnd herkommen aller kranckheiten handeln in genere deren catalogus nach der præfation an den leser zu finden adiunctus est index rerum verborum accuratiss copiosissimus.getruckt zu basel durchconrad waldkirch anno m. d. lxxxix dem hochwürdigsten in gott durchleüchtigsten hochgebornen fürsten vnd herrn herrn ernesto erwehlten vnd bestettigten zu ertzbischoffen zu cöln vnd churfürsten bischoffen zu lüttich der stifft münster hildeßheim vnd freysingen administratori fürsten zu stabel pfaltzgrauen bey rhein in ober vnd nider bayern zu westphalen engern vnd bullion hertzogen marggrauen zu francimont grauen zu loe vnd horn etc meinem gnedigsten churfürsten vnnd herrn hochwürdigster in gott durchleuchtigster hochgeborner churfürst gnedigster herr wie hochnöttig vnnd nutzlich die kunst der artzney menschlichem geschlecht sey ist vnnöttig mit vielen worten zuerzehlen wie hoch auch allwegen gelehrte vnd erfahrne artzte gehalten worden bezeuget nicht allein die heydnische sondern auch die göttliche geschrifft denn was kan im liecht \n"
     ]
    }
   ],
   "source": [
    "\"\"\"To proceed to a RegEx search, the tokenised list must be turned into a long string. Here I am turning the whole Paracelsus corpus into a string object\"\"\"\n",
    "strlowercase = \" \".join(lowercase)\n",
    "print(strlowercase[:1500]) #checking contents"
   ]
  },
  {
   "cell_type": "code",
   "execution_count": 14,
   "id": "757b42c6",
   "metadata": {
    "ExecuteTime": {
     "end_time": "2024-06-06T21:02:21.636506200Z",
     "start_time": "2024-06-06T21:02:21.079599700Z"
    }
   },
   "outputs": [
    {
     "name": "stdout",
     "output_type": "stream",
     "text": [
      "220\n",
      "['vulcanische', 'vulcanum', 'vulcano', 'vulcani', 'vulcanischen', 'vulcanischen', 'vulcanus', 'vulcanus', 'vulcani', 'vulcanum', 'vulcanischen', 'vulcanischen', 'vulcanische', 'vulcanus', 'vulcanus', 'vulcani', 'vulcanus', 'vulcanus', 'vulcanus', 'vulcanus', 'vulcanum', 'vulcano', 'vulcano', 'vulcanus', 'vulcanus', 'vulcanus', 'vulcano', 'vulcani', 'vulcanus', 'vulcanus', 'vulcanus', 'vulcanis', 'vulcani', 'vulcano', 'vulcanischen', 'vulcani', 'vulcanisch', 'vulcanus', 'vulcani', 'vulcanischen', 'vulcanus', 'vulcanus', 'vulcano', 'vulcano', 'vulcanus', 'vulcano', 'vulcanischen', 'vulcanum', 'vulcani', 'vulcanus', 'vulcanus', 'vulcanus', 'vulcanische', 'vulcanus', 'vulcanus', 'vulcanus', 'vulcani', 'vulcanus', 'vulcanum', 'vulcanus', 'vulcanum', 'vulcanum', 'vulcanum', 'vulcani', 'vulcanus', 'vulcanum', 'vulcanus', 'vulcanisch', 'vulcanus', 'vulcano', 'vulcano', 'vulcanischer', 'vulcanisch', 'vulcani', 'vulcanus', 'vulcanum', 'vulcanischen', 'vulcanischen', 'vulcanischen', 'vulcanische', 'vulcanus', 'vulcani', 'vulcani', 'vulcano', 'vulcani', 'vulcanus', 'vulcanische', 'vulcani', 'vulcanischen', 'vulcanum', 'vulcanum', 'vulcanum', 'vulcani', 'vulcanen', 'vulcanum', 'vulcanum', 'vulcanus', 'vulcani', 'vulcanische', 'vulcanische', 'vulcanum', 'vulcanische', 'vulcanischen', 'vulcanum', 'vulcania', 'vulcaneis', 'vulcanum', 'vulcanus', 'vulcano', 'vulcanus', 'vulcanus', 'vulcanus', 'vulcanus', 'vulcanum', 'vulcanum', 'vulcanus', 'vulcani', 'vulcano', 'vulcanus', 'vulcanische', 'vulcano', 'vulcanus', 'vulcanus', 'vulcano', 'vulcano', 'vulcanus', 'vulcanus', 'vulcanus', 'vulcanus', 'vulcanus', 'vulcanus', 'vulcano', 'vulcanische', 'vulcanum', 'vulcanum', 'vulcanus', 'vulcanisch', 'vulcanus', 'vulcanischen', 'vulcanus', 'vulcano', 'vulcano', 'vulcani', 'vulcanus', 'vulcanum', 'vulcanum', 'vulcanum', 'vulcano', 'vulcanum', 'vulcanum', 'vulcanus', 'vulcanum', 'vulcanus', 'vulcanus', 'vulcano', 'vulcanus', 'vulcanus', 'vulcanus', 'vulcanus', 'vulcanus', 'vulcano', 'vulcano', 'vulcanos', 'vulcanos', 'vulcanos', 'vulcanos', 'vulcanischen', 'vulcani', 'vulcanen', 'vulcaney', 'vulcanis', 'vulcani', 'vulcanis', 'vulcanus', 'vulcani', 'vulcanischen', 'vulcanischen', 'vulcanen', 'vulcanischen', 'vulcani', 'vulcani', 'vulcani', 'vulcanische', 'vulcanum', 'vulcanum', 'vulcani', 'vulcanus', 'vulcani', 'vulcanus', 'vulcanales', 'vulcanales', 'vulcanales', 'vulcanalium', 'vulcanalibus', 'vulcanum', 'vulcanum', 'vulcanischen', 'vulcani', 'vulcanischen', 'vulcani', 'vulcanischen', 'vulcano', 'vulcani', 'vulcanum', 'vulcani', 'vulcanus', 'vulcanus', 'vulcanus', 'vulcanum', 'vulcanus', 'vulcanus', 'vulcanum', 'vulcanus', 'vulcanus', 'vulcanus', 'vulcani', 'vulcanische', 'vulcanus', 'vulcanische', 'vulcanus']\n"
     ]
    }
   ],
   "source": [
    "\"\"\"Running RegEx on vulcan stem and counting the occurrences\"\"\"\n",
    "\n",
    "matches = re.findall(r'[v][u][l][c|k][a][n][a-z]{1,6}', strlowercase)\n",
    "i=0\n",
    "listvulc=[]\n",
    "for match1 in matches:\n",
    "    listvulc.append(match1)\n",
    "    i=i+1\n",
    "\n",
    "print(i)\n",
    "print (listvulc)"
   ]
  },
  {
   "cell_type": "code",
   "execution_count": 15,
   "id": "06aae342",
   "metadata": {
    "ExecuteTime": {
     "end_time": "2024-06-06T21:02:27.163156900Z",
     "start_time": "2024-06-06T21:02:26.143215900Z"
    }
   },
   "outputs": [
    {
     "name": "stdout",
     "output_type": "stream",
     "text": [
      "vulcanales occurs 3 times\n",
      "vulcanalibus occurs 1 times\n",
      "vulcanalium occurs 1 times\n",
      "vulcaneis occurs 1 times\n",
      "vulcanen occurs 3 times\n",
      "vulcaney occurs 1 times\n",
      "vulcani occurs 32 times\n",
      "vulcania occurs 1 times\n",
      "vulcanis occurs 3 times\n",
      "vulcanisch occurs 4 times\n",
      "vulcanische occurs 13 times\n",
      "vulcanischen occurs 20 times\n",
      "vulcanischer occurs 1 times\n",
      "vulcano occurs 24 times\n",
      "vulcanos occurs 4 times\n",
      "vulcanum occurs 35 times\n",
      "vulcanus occurs 73 times\n"
     ]
    }
   ],
   "source": [
    "\"\"\"Next step is to count frequencies of the terms\"\"\"\n",
    "\n",
    "arr = np.array(listvulc)\n",
    "\n",
    "unique_values, counts = np.unique(arr, return_counts=True)\n",
    "\n",
    "\"\"\"Placing results into Pandas dataframe and printing them on screen\"\"\"\n",
    "                                  \n",
    "for value, count in zip(unique_values, counts):\n",
    "    print(f\"{value} occurs {count} times\")\n",
    "    dfvulc = pd.DataFrame(list(zip(unique_values, counts)))"
   ]
  },
  {
   "cell_type": "code",
   "execution_count": 16,
   "id": "e92ab4a2",
   "metadata": {
    "ExecuteTime": {
     "end_time": "2024-06-06T21:23:58.666127700Z",
     "start_time": "2024-06-06T21:23:58.638246400Z"
    }
   },
   "outputs": [
    {
     "name": "stdout",
     "output_type": "stream",
     "text": [
      "            term  occurrence\n",
      "0     vulcanales           3\n",
      "1   vulcanalibus           1\n",
      "2    vulcanalium           1\n",
      "3      vulcaneis           1\n",
      "4       vulcanen           3\n",
      "5       vulcaney           1\n",
      "6        vulcani          32\n",
      "7       vulcania           1\n",
      "8       vulcanis           3\n",
      "9     vulcanisch           4\n",
      "10   vulcanische          13\n",
      "11  vulcanischen          20\n",
      "12  vulcanischer           1\n",
      "13       vulcano          24\n",
      "14      vulcanos           4\n",
      "15      vulcanum          35\n",
      "16      vulcanus          73\n"
     ]
    }
   ],
   "source": [
    "\"\"\"changing names of columns\"\"\"\n",
    "dfvulc.columns = ['term', 'occurrence']\n",
    "print(dfvulc)"
   ]
  },
  {
   "cell_type": "code",
   "execution_count": 17,
   "id": "23361975",
   "metadata": {
    "ExecuteTime": {
     "end_time": "2024-06-06T21:24:03.251993100Z",
     "start_time": "2024-06-06T21:24:03.196833500Z"
    }
   },
   "outputs": [
    {
     "name": "stdout",
     "output_type": "stream",
     "text": [
      "            term  occurrence\n",
      "16      vulcanus          73\n",
      "15      vulcanum          35\n",
      "6        vulcani          32\n",
      "13       vulcano          24\n",
      "11  vulcanischen          20\n",
      "10   vulcanische          13\n",
      "9     vulcanisch           4\n",
      "14      vulcanos           4\n",
      "0     vulcanales           3\n",
      "4       vulcanen           3\n",
      "8       vulcanis           3\n",
      "1   vulcanalibus           1\n",
      "7       vulcania           1\n",
      "5       vulcaney           1\n",
      "12  vulcanischer           1\n",
      "3      vulcaneis           1\n",
      "2    vulcanalium           1\n"
     ]
    }
   ],
   "source": [
    "\"\"\"ordering the results\"\"\"\n",
    "dfvulc.sort_values(by=[\"occurrence\"], inplace=True, ascending = False)\n",
    "print(dfvulc)"
   ]
  },
  {
   "cell_type": "code",
   "execution_count": 48,
   "id": "1f1a1d87",
   "metadata": {
    "ExecuteTime": {
     "end_time": "2024-06-06T21:24:07.786743200Z",
     "start_time": "2024-06-06T21:24:05.439328800Z"
    }
   },
   "outputs": [
    {
     "data": {
      "text/plain": [
       "Text(0, 0.5, 'occurrence')"
      ]
     },
     "execution_count": 48,
     "metadata": {},
     "output_type": "execute_result"
    },
    {
     "data": {
      "image/png": "[encoded data removed]",
      "text/plain": [
       "<Figure size 640x480 with 1 Axes>"
      ]
     },
     "metadata": {},
     "output_type": "display_data"
    }
   ],
   "source": [
    "\"\"\"Create a bar visualisation of frequencies\"\"\"\n",
    "dfvulc.plot(x=\"term\", y=\"occurrence\", kind=\"bar\")\n",
    "plt.title(\"Occurrences\")\n",
    "plt.xlabel(\"term\")\n",
    "plt.ylabel(\"occurrence\")"
   ]
  },
  {
   "cell_type": "code",
   "execution_count": 19,
   "id": "d84ca8e7",
   "metadata": {
    "ExecuteTime": {
     "end_time": "2024-06-06T21:24:13.650839Z",
     "start_time": "2024-06-06T21:24:13.582711800Z"
    }
   },
   "outputs": [],
   "source": [
    "#Loading list into NLTK object\n",
    "\n",
    "wordtext = nltk.Text(lowercase) "
   ]
  },
  {
   "cell_type": "code",
   "execution_count": 20,
   "id": "aa024c74",
   "metadata": {
    "ExecuteTime": {
     "end_time": "2024-06-06T21:24:43.177301Z",
     "start_time": "2024-06-06T21:24:40.325268500Z"
    }
   },
   "outputs": [
    {
     "name": "stdout",
     "output_type": "stream",
     "text": [
      "Displaying 3 of 3 matches:\n",
      "es die gnomi die gigantes vnnd auch die syluestres vnd vulcanales geboren werden dann jhr geburt gehet nit auß menschlic\n",
      "alamander wohnet im fewr gibt ein exempel das auch die vulcanales im fewr nit verbrennen die vmbratiles wohnen im lufft \n",
      "elt geben vnd ander abscheidt es seind auch vielfaltig vulcanales gantz im fewr vnnd gar fewrin gesehen worden die nachf\n"
     ]
    }
   ],
   "source": [
    "wordtext.concordance(\"vulcanales\", width=120, lines=5)"
   ]
  },
  {
   "cell_type": "code",
   "execution_count": 22,
   "id": "7ff0a489",
   "metadata": {
    "ExecuteTime": {
     "end_time": "2024-06-06T21:24:45.435909700Z",
     "start_time": "2024-06-06T21:24:45.419679200Z"
    }
   },
   "outputs": [
    {
     "name": "stdout",
     "output_type": "stream",
     "text": [
      "Displaying 1 of 1 matches:\n",
      "ex secundis generationibus vt est ex hominibus realgare vulcania è bestiis etiam quæ ex tertia generatione in hanc sente\n"
     ]
    }
   ],
   "source": [
    "wordtext.concordance(\"vulcania\", width=120)"
   ]
  },
  {
   "cell_type": "code",
   "execution_count": 23,
   "id": "bcc2b739",
   "metadata": {},
   "outputs": [
    {
     "name": "stdout",
     "output_type": "stream",
     "text": [
      "Displaying 1 of 1 matches:\n",
      "lbig hauß sey also mercket von den gnomis vnd nymphis vulcanalibus dieselbigen haben jhre behaussung in jhren elementen \n"
     ]
    }
   ],
   "source": [
    "wordtext.concordance(\"vulcanalibus\", width=120)"
   ]
  },
  {
   "cell_type": "code",
   "execution_count": 24,
   "id": "359a2a6f",
   "metadata": {
    "ExecuteTime": {
     "end_time": "2024-06-06T21:24:52.985546400Z",
     "start_time": "2024-06-06T21:24:52.963810500Z"
    }
   },
   "outputs": [
    {
     "name": "stdout",
     "output_type": "stream",
     "text": [
      "Displaying 1 of 1 matches:\n",
      " etiam quæ ex tertia generatione in hanc sententiam ex vulcaneis realgare q. s. put refac mensem philosophicum id est v\n"
     ]
    }
   ],
   "source": [
    "wordtext.concordance(\"vulcaneis\", width=120) #it is less clear here if spirits are meant. "
   ]
  },
  {
   "cell_type": "code",
   "execution_count": 25,
   "id": "9fba724d",
   "metadata": {
    "ExecuteTime": {
     "end_time": "2024-06-06T21:24:58.736491Z",
     "start_time": "2024-06-06T21:24:58.649981400Z"
    }
   },
   "outputs": [
    {
     "name": "stdout",
     "output_type": "stream",
     "text": [
      "Displaying 3 of 3 matches:\n",
      "tlichs also wirdt der terpentin von den firmamentischen vulcanen in einen balsam transmutiert zum andern entpfacht er se\n",
      "er zu mit jrem ernewern dann mit dem monn nun seind der vulcanen nit einer sondern viel vnd ein jeglicher hat sein beson\n",
      "ehandelt vnnd gewandelt dergleichen mit den aethnischen vulcanen welche dergleichen wie obsteht dem menschen fürkommen v\n"
     ]
    }
   ],
   "source": [
    "wordtext.concordance(\"vulcanen\", width=120) #this is relevant."
   ]
  },
  {
   "cell_type": "code",
   "execution_count": 28,
   "id": "0729aad8",
   "metadata": {
    "ExecuteTime": {
     "end_time": "2024-06-06T21:25:01.517756300Z",
     "start_time": "2024-06-06T21:25:01.341629900Z"
    }
   },
   "outputs": [
    {
     "name": "stdout",
     "output_type": "stream",
     "text": [
      "Displaying 1 of 1 matches:\n",
      " in elemento terræ der vatter im firmament die mutter vulcanalium im fewr der vatter im firmament die mutter syluestriu\n"
     ]
    }
   ],
   "source": [
    "wordtext.concordance(\"vulcanalium\", width=120) #this is relevant."
   ]
  },
  {
   "cell_type": "code",
   "execution_count": 29,
   "id": "988d39eb",
   "metadata": {
    "ExecuteTime": {
     "end_time": "2024-06-06T21:25:05.765962400Z",
     "start_time": "2024-06-06T21:25:05.413360Z"
    }
   },
   "outputs": [
    {
     "name": "stdout",
     "output_type": "stream",
     "text": [
      "Displaying 1 of 1 matches:\n",
      "d vel sitten dann fürwar so ein jrriges ding ist in der vulcaney vnd so ein seltzam schmiden das noch bißher keiner den \n"
     ]
    }
   ],
   "source": [
    "wordtext.concordance(\"vulcaney\", width=120) #seems relevant"
   ]
  },
  {
   "cell_type": "code",
   "execution_count": 30,
   "id": "dcda8eed",
   "metadata": {
    "ExecuteTime": {
     "end_time": "2024-06-06T21:25:09.728132800Z",
     "start_time": "2024-06-06T21:25:09.365281700Z"
    }
   },
   "outputs": [
    {
     "name": "stdout",
     "output_type": "stream",
     "text": [
      "Displaying 24 of 24 matches:\n",
      "ch der jhn gelernet hab der lerne vns auch die natur in vulcano die sey auch vnser leermeister dann so einer spricht th\n",
      "ertz gibt ers vns weitter befilcht ers dem feür vnd dem vulcano der des feürs meister ist also volgt das dem vulcano da\n",
      "em vulcano der des feürs meister ist also volgt das dem vulcano dasselbig befohlen ist darumb so ist die kunst gerecht \n",
      "fs ende sondern im schlacken verborgen jetzt ist es dem vulcano befohlen den schlacken von der artzney zuthun vnnd wie \n",
      "uch mit der artzney beschehen darzu auch mit dem innern vulcano dergleichen darumb soll sich der artzt der alchimia nic\n",
      "es mucilagines welche die natürliche angeborne kunst in vulcano scheidt vnd formirt dann wie der mensch angeborne gesch\n",
      "mensch angeborne geschickligkeit vnd kunst hatt also im vulcano auch zuuerstehen ist vnd andere stein mehr die also von\n",
      " mag seine kunst abgesehen vnnd abgestolen werden disem vulcano aber nicht dann den spiritum in seiner arbeit mag niema\n",
      "er hergangen seind dann sie sindt alle nigromantici was vulcano anhangt auß jhrem vnuerstandt haben sie die superstitio\n",
      "ie codices vnd dieselbigen so hierwider fechten vnd dem vulcano vberantworten dann welcher boreas ist blieben das nicht\n",
      "cera raucedinem sic cætera metalla machend düppel si is vulcano assistens zwischen dem daumen infallend vnd ohren certu\n",
      "uch im andern vnd dritten etc darauff wissendt nuhn vom vulcano deß firmaments der hatt in jhm seinen gewalt tres prima\n",
      "ürlichen elementischen vulcani also wie das exempel vom vulcano ignis deß fewers außweiset also wird auch verstanden de\n",
      "gt in jhren proprietatibus vnnd wircket auch gleich dem vulcano igneo nemlich also jhr sehend daß der regen vom himmel \n",
      "ibt einem jeglichen sahmen dz jhm zustehet das ist gibt vulcano terrae sein instrumenten sein zeug zu seiner notturfft \n",
      "irmament auch ein archeus mit sampt dem firmamentischen vulcano auff das die ding so der himmel gebiert vollkommen gesc\n",
      "der winde ist dann so die drey ersten bewegt werden vom vulcano in jhr operation so mouiren sich die tres primae in jhr\n",
      "chafft dieselbige praepariert sich weither in dem igneo vulcano zum regen wie der tartarus zu wasser vnd ander ding meh\n",
      "t das jhn der impetus nicht genommen ist worden von dem vulcano vnnd das ist eine sondere arth wo nuhn solche arth ist \n",
      "anum als wol als die zeit da muß sein in dem jrrdischen vulcano zu geben seine frücht gegen dem herbst dann alle ding s\n",
      "rch die experientiam so am letsten die prima materia in vulcano beweist auff welchem grund niemandts jrren mag tractatv\n",
      "vnd vbel proportioniert nun aber weitter wissen von dem vulcano was ist das nit jung wider auffwachst vnd wz ist das fü\n",
      "ie von einander also wie mit dem monn also auch mit dem vulcano er wirdt jung lehrnd wird alt vnd wird je lenger je bes\n",
      "h in deß himmels lauff nit astronomi sind so jr auch im vulcano kein wissen habend vnnd so jr in der physica allen irrs\n"
     ]
    }
   ],
   "source": [
    "wordtext.concordance(\"vulcano\", width=120)"
   ]
  },
  {
   "cell_type": "code",
   "execution_count": 31,
   "id": "a3e1e1df",
   "metadata": {
    "ExecuteTime": {
     "end_time": "2024-06-06T21:25:13.998601100Z",
     "start_time": "2024-06-06T21:25:13.794841700Z"
    }
   },
   "outputs": [
    {
     "name": "stdout",
     "output_type": "stream",
     "text": [
      "Displaying 4 of 4 matches:\n",
      "ach wie der meister zimmert also haben die regiones jhr vulcanos die aedes jr vulcanos die geschicht jr vulcanos die zei\n",
      "mmert also haben die regiones jhr vulcanos die aedes jr vulcanos die geschicht jr vulcanos die zeit im jahr jr vulcanos \n",
      "nes jhr vulcanos die aedes jr vulcanos die geschicht jr vulcanos die zeit im jahr jr vulcanos ders trifft der triffts vo\n",
      " vulcanos die geschicht jr vulcanos die zeit im jahr jr vulcanos ders trifft der triffts von diesen vulcanischen wird ic\n"
     ]
    }
   ],
   "source": [
    "wordtext.concordance(\"vulcanos\", width=120)"
   ]
  },
  {
   "cell_type": "code",
   "execution_count": 32,
   "id": "4cfa3e80",
   "metadata": {
    "ExecuteTime": {
     "end_time": "2024-06-06T21:25:19.038826300Z",
     "start_time": "2024-06-06T21:25:18.707993300Z"
    }
   },
   "outputs": [
    {
     "name": "stdout",
     "output_type": "stream",
     "text": [
      "Displaying 3 of 3 matches:\n",
      "tt nichts biß an das endt beschaffen hat das weiter den vulcanis befohlen ist dieselbigen ding biß zum endt zubringen vn\n",
      "en vnd zu schmiden auch das wir vnterworffen seindt den vulcanis vnter denn weder kelber noch kuh weder ander viech vnd \n",
      "m also ist der mensch auch in die zerbrechung geben den vulcanis der mensch zu dem der zu dem wie es dann vnter vns ersc\n"
     ]
    }
   ],
   "source": [
    "wordtext.concordance(\"vulcanis\", width=120)"
   ]
  },
  {
   "cell_type": "code",
   "execution_count": 33,
   "id": "6651e6d1",
   "metadata": {
    "ExecuteTime": {
     "end_time": "2024-06-06T21:25:22.062780500Z",
     "start_time": "2024-06-06T21:25:21.842097600Z"
    }
   },
   "outputs": [
    {
     "name": "stdout",
     "output_type": "stream",
     "text": [
      "Displaying 25 of 73 matches:\n",
      " entlehnen oder selbst auffschlagen so ist er auch kein vulcanus hatt auch nicht den berg aethna abgelöscht vnnd da soll\n",
      "ermeinten antonium geschmidet hatt der wol vnnd billich vulcanus geheissen soll werden derselbig hatt angezündt vnnd gef\n",
      "s golts probiermeister genennet die poeten sprechen das vulcanus phoebum das ist die son in solchem bädlin abgewäschen v\n",
      "uerber biß auff die hindersten feces verbrennen vnd der vulcanus muß schwebel vnd bech salpeter vnd oel angiessen vnd se\n",
      "r ist die kunst vulcani darumb so ist noth zuwissen was vulcanus vermag alchimia ist ein kunst vulcanus ist der künstler\n",
      "oth zuwissen was vulcanus vermag alchimia ist ein kunst vulcanus ist der künstler in jhr der nuhn vulcanus ist der ist d\n",
      "ist ein kunst vulcanus ist der künstler in jhr der nuhn vulcanus ist der ist der kunst gewaltig der er nicht ist der ist\n",
      "f das ende aber nicht gar biß auff das endt sondern der vulcanus muß es volenden so weit seindt alle ding beschaffen das\n",
      " die kunst gerecht dann wo sie nit gerecht were da nött vulcanus nichts nun jetzt volgt auß dem das erstlich das eisen m\n",
      "werden soll das ist alchimia das ist der schmeltzer der vulcanus heist was das fewr thut ist alchimia auch in der kuchen\n",
      "er kuchen auch im ofen was auch das fewr regirt das ist vulcanus auch der koch auch der stubenheitzer also ists auch mit\n",
      "n zu prima materia beschaffen vnd vber das so volgt der vulcanus hernach der machts in vltimam materiam durch die kunst \n",
      " die kunst alchimiæ also volgt der archeus der inwendig vulcanus hernach der weiß zu circulirn vnd preparirn nach den st\n",
      "ie dise præfigurirt also scheiden sich von einander der vulcanus vnd der archeus das ist alchimia das nit auff sein end \n",
      "um also mit den andern elementen auch vnnd also sol der vulcanus in der grossen welt erkannt werden also auch in der kle\n",
      "wie sie da eigentlich erscheinen jhr sehend wie das der vulcanus auß dem wasser ein vitriolum coagulirt auß dem wasser e\n",
      " ein vitriol ein saltz ein alumen im wasser vnd wie der vulcanus dieselbig scheidet vom wasser als man sihet also solt j\n",
      " thun also in solcher gestalt ist in dem microcosmo ein vulcanus der gleich ist dem salliter sieder der solche extractio\n",
      "üssen imaginiren jetzt ist diese imagination die cupido vulcanus inspiratio jetzt ists durch denselben planeten vollbrac\n",
      "per casum stomachi dann cibus die heut gessen wirdt mag vulcanus stomachi nicht digerirn vnd das beschicht das der vulca\n",
      "canus stomachi nicht digerirn vnd das beschicht das der vulcanus aluminosisch ist et hæc est causa efficiens dissolution\n",
      "st am selbigen ort do sie ligt zu gleicher weiß als der vulcanus dz pley in weiß macht also do geht auch der saturnus am\n",
      "d iupiter die andern leibsternen sindt mehr fix das sie vulcanus so leicht nicht vberwindt infra fol in additionibus dor\n",
      "will der soll die philosophey der natürlichen farben so vulcanus eröffnet erfaren dann in eim jedlichen ding sind alle f\n",
      " grün auch das schwartz was ist dasselbig allein dz der vulcanus vber reuerberirt hatt vnd den microcosmischen athanar z\n"
     ]
    }
   ],
   "source": [
    "wordtext.concordance(\"vulcanus\", width=120)"
   ]
  },
  {
   "cell_type": "code",
   "execution_count": 34,
   "id": "86497f97",
   "metadata": {
    "ExecuteTime": {
     "end_time": "2024-06-06T21:25:24.925350400Z",
     "start_time": "2024-06-06T21:25:24.672327Z"
    }
   },
   "outputs": [
    {
     "name": "stdout",
     "output_type": "stream",
     "text": [
      "Displaying 25 of 37 matches:\n",
      "reuerber biß auff die hindersten feces verbrennen vnd der vulcanus muß schwebel vnd bech salpeter vnd oel angiessen vnd \n",
      "uff das ende aber nicht gar biß auff das endt sondern der vulcanus muß es volenden so weit seindt alle ding beschaffen d\n",
      "s werden soll das ist alchimia das ist der schmeltzer der vulcanus heist was das fewr thut ist alchimia auch in der kuch\n",
      "den zu prima materia beschaffen vnd vber das so volgt der vulcanus hernach der machts in vltimam materiam durch die kuns\n",
      " die dise præfigurirt also scheiden sich von einander der vulcanus vnd der archeus das ist alchimia das nit auff sein en\n",
      "tium also mit den andern elementen auch vnnd also sol der vulcanus in der grossen welt erkannt werden also auch in der k\n",
      "a wie sie da eigentlich erscheinen jhr sehend wie das der vulcanus auß dem wasser ein vitriolum coagulirt auß dem wasser\n",
      "ie ein vitriol ein saltz ein alumen im wasser vnd wie der vulcanus dieselbig scheidet vom wasser als man sihet also solt\n",
      "ulcanus stomachi nicht digerirn vnd das beschicht das der vulcanus aluminosisch ist et hæc est causa efficiens dissoluti\n",
      " ist am selbigen ort do sie ligt zu gleicher weiß als der vulcanus dz pley in weiß macht also do geht auch der saturnus \n",
      "as grün auch das schwartz was ist dasselbig allein dz der vulcanus vber reuerberirt hatt vnd den microcosmischen athanar\n",
      "utisch etwann chronicisch das ist alles nach dem vnnd der vulcanus die ding angreifft jetzt in der natur styptica jetzt \n",
      " als so die drey stück fix legen in einem athanar vnd der vulcanus feüert an vnnd dieweil die incension do geht dieweil \n",
      "der himmel lest das die sonn kochen dann die sonn ist der vulcanus im himmel der auff der erden kocht was ist nun deß ar\n",
      " der rost das eisen dermassen ist aber das fulmen das der vulcanus in partu deß terpentins sie verzehret wie das fewr da\n",
      "nzugreiffen vnnd zu bereitten wunderbarliche ding ist der vulcanus der dem menschen vnderworffen ist dann der vulcanus d\n",
      "t der vulcanus der dem menschen vnderworffen ist dann der vulcanus der elementen derselbige mag dem menschen nit werden \n",
      "imam materiam durch den menschen beschehen müssen vnd der vulcanus elementorum macht sein vltimam materiam nichts anders\n",
      " ist dz fewr dasselbige vertritt den vulcanum vnd ist der vulcanus ignis vnd ist ein knecht der natürlichen künsten die \n",
      " ignis deß fewers außweiset also wird auch verstanden der vulcanus elementatus der alle ding ohne andere fertiget als da\n",
      "as von der erden wachst macht vnd fürtreibet also was der vulcanus terrae schmidet das hat sein gedeyhen durch den regen\n",
      "ing so der himmel gebiert vollkommen geschehen ist do der vulcanus ist do der iliaster dergleichen der archeus die volle\n",
      "ist gibt ein trocken windt nun so wissent auff das dz der vulcanus igneus in den sternen seudt die drey ersten wie sie d\n",
      "n den windtsternen auff solches ist nun zu wissen daß der vulcanus igneus nichts ist dann ein schweffel ein salniter ein\n",
      "nicht gibt allein was die windt hinein treiben wiewol der vulcanus auch in der erden ist im wasser aber er ist nicht ful\n"
     ]
    }
   ],
   "source": [
    "wordtext.concordance([\"der\", \"vulcanus\"], width=120)"
   ]
  },
  {
   "cell_type": "code",
   "execution_count": 35,
   "id": "f7919626",
   "metadata": {
    "ExecuteTime": {
     "end_time": "2024-06-06T21:25:45.271311100Z",
     "start_time": "2024-06-06T21:25:44.811854100Z"
    }
   },
   "outputs": [
    {
     "name": "stdout",
     "output_type": "stream",
     "text": [
      "Displaying 2 of 2 matches:\n",
      "ter genennet die poeten sprechen das vulcanus phoebum das ist die son in solch\n",
      "ter genennet die poeten sprechen das vulcanus phoebum das ist die son in solch\n"
     ]
    }
   ],
   "source": [
    "wordtext.concordance([\"das\", \"vulcanus\"])"
   ]
  },
  {
   "cell_type": "code",
   "execution_count": 36,
   "id": "dfb1ba4a",
   "metadata": {
    "ExecuteTime": {
     "end_time": "2024-06-06T21:25:52.097069300Z",
     "start_time": "2024-06-06T21:25:48.965034700Z"
    }
   },
   "outputs": [
    {
     "data": {
      "image/png": "[encoded data removed]",
      "text/plain": [
       "<Figure size 640x480 with 1 Axes>"
      ]
     },
     "metadata": {},
     "output_type": "display_data"
    }
   ],
   "source": [
    "wordtext.dispersion_plot([\"vulcanus\"])"
   ]
  },
  {
   "cell_type": "code",
   "execution_count": 38,
   "id": "c28b5073",
   "metadata": {
    "ExecuteTime": {
     "end_time": "2024-06-06T21:26:23.349699300Z",
     "start_time": "2024-06-06T21:26:11.665612Z"
    }
   },
   "outputs": [],
   "source": [
    "\"\"\"To identify co-occurrences of Vulcanus, I am first removing German stopwords as they will skew the result. \n",
    "The package originates from NLTK corpus. I also added some extra early modern German stopwords which cannot be found in the standard NLTK German corpus, \n",
    "as well as some Latin words\"\"\"\n",
    "\n",
    "stoplist = [\"a\", \"b\", \"c\", \"d\",\"vnd\", \"vnnd\", \"jhr\", \"darumb\", \"dz\", \"jhm\", \"auff\", \"etc\", \"deß\", \"wol\", \"auß\", \n",
    "            \"darauß\", \"do\", \"nit\", \"wirdt\", \"hatt\", \"sey\", \"seind\", \"muß\", \"vns\", \"est\", \"allein\", \"gleich\", 'dergleichen', \n",
    "           \"de\", \"nuhn\", \"herauß\", \"dieweil\", \"seindt\",\"ex\", \"zusammen\", \"mehr\", \"einander\", \"vt\", \"mag\", \"gibt\", \"gar\",\n",
    "           \"thut\",\"biß\", \"ille\", \"ad\", \"quid\", \"geben\", \"hie\", \"jhn\", \"wider\", \"kommen\", \"sollen\", \"sondern\", \"ohn\", \n",
    "            \"wiewol\",\"kan\", \"wirt\", \"dasselbig\", \"selbs\", \"vber\", \"jhnen\", \"sonder\", \"kompt\", \"jhren\", \"wer\", \"bey\", \n",
    "           \"wann\"]\n",
    "\n",
    "new_stopwords = nltk.corpus.stopwords.words('german')\n",
    "\n",
    "new_stopwords.extend(stoplist)\n",
    "\n",
    "relevantwords = [word for word in lowercase if word not in new_stopwords] #I'm running this with new_stopwords\n"
   ]
  },
  {
   "cell_type": "code",
   "execution_count": 39,
   "id": "88c92825",
   "metadata": {
    "ExecuteTime": {
     "end_time": "2024-06-06T21:29:29.905278500Z",
     "start_time": "2024-06-06T21:29:28.445305900Z"
    }
   },
   "outputs": [
    {
     "name": "stdout",
     "output_type": "stream",
     "text": [
      "Word: ding, Count: 120\n",
      "Word: vulcanus, Count: 106\n",
      "Word: natur, Count: 99\n",
      "Word: menschen, Count: 99\n",
      "Word: macht, Count: 93\n",
      "Word: fewr, Count: 90\n",
      "Word: mensch, Count: 84\n",
      "Word: kunst, Count: 84\n",
      "Word: holtz, Count: 62\n",
      "Word: materia, Count: 60\n",
      "Word: arth, Count: 59\n",
      "Word: artzney, Count: 58\n",
      "Word: materiam, Count: 56\n",
      "Word: sulphur, Count: 53\n",
      "Word: wesen, Count: 49\n",
      "Word: gott, Count: 48\n",
      "Word: wasser, Count: 48\n",
      "Word: ersten, Count: 46\n",
      "Word: wissen, Count: 46\n",
      "Word: meister, Count: 45\n",
      "Word: vltimam, Count: 43\n"
     ]
    }
   ],
   "source": [
    "\"\"\"I am here identifying most common co-occurrences near the word \"Vulcanus\" using the Counter special dictionary in Python.\"\"\"\n",
    "\n",
    "window_size = 30 # Size of the context window\n",
    "co_occurrences = Counter()\n",
    "\n",
    "\"\"\" Looping through each word in the cleaned-up list of the Paracelsus corpus. I eliminated words in the list relate to spirits of fire and also adjectives \"\"\"\n",
    "\n",
    "for i, word in enumerate(relevantwords):\n",
    "    if word == \"vulcanus\" or word == \"vulcano\" or word == \"vulcanum\" or word == \"vulcani\" \\\n",
    "    or word == \"vulcanos\" or word == \"vulcanis\" or word == \"vulcanen\" or word == \"vulcaneis\" \\\n",
    "    or word == \"vulcaney\" or word == \"vulcanisch\" or word == \"vulcanische\" or word == \"vulcanischen\":\n",
    "        window = relevantwords[max(0, i - window_size):i] + relevantwords[i + 1:min(len(relevantwords), i + window_size + 1)]\n",
    "        co_occurrences.update(window)\n",
    "\n",
    "# Get the 21 most common co-occurring words\n",
    "common_co_occurrences = co_occurrences.most_common(21)\n",
    "\n",
    "vulcanus = {} #I create a dictionary to contain the associated terms and their occurrences\n",
    "\n",
    "for word, count in common_co_occurrences:\n",
    "    vulcanus[word] = count\n",
    "    print(f\"Word: {word}, Count: {count}\")\n"
   ]
  },
  {
   "cell_type": "code",
   "execution_count": 40,
   "id": "6d8c0c06",
   "metadata": {},
   "outputs": [
    {
     "name": "stdout",
     "output_type": "stream",
     "text": [
      "        Word  Occurrences\n",
      "0       ding          120\n",
      "1   vulcanus          106\n",
      "2      natur           99\n",
      "3   menschen           99\n",
      "4      macht           93\n",
      "5       fewr           90\n",
      "6     mensch           84\n",
      "7      kunst           84\n",
      "8      holtz           62\n",
      "9    materia           60\n",
      "10      arth           59\n",
      "11   artzney           58\n",
      "12  materiam           56\n",
      "13   sulphur           53\n",
      "14     wesen           49\n",
      "15      gott           48\n",
      "16    wasser           48\n",
      "17    ersten           46\n",
      "18    wissen           46\n",
      "19   meister           45\n",
      "20   vltimam           43\n"
     ]
    }
   ],
   "source": [
    "\"\"\"Saving the dictionary in Pandas\"\"\"\n",
    "vulcdf = pd.DataFrame(vulcanus.items(), columns=['Word', 'Occurrences'])\n",
    "print(vulcdf)"
   ]
  },
  {
   "cell_type": "code",
   "execution_count": 41,
   "id": "df625226",
   "metadata": {},
   "outputs": [
    {
     "name": "stderr",
     "output_type": "stream",
     "text": [
      "C:\\Users\\johed\\AppData\\Local\\Temp\\ipykernel_37480\\93047715.py:2: SettingWithCopyWarning: \n",
      "A value is trying to be set on a copy of a slice from a DataFrame\n",
      "\n",
      "See the caveats in the documentation: https://pandas.pydata.org/pandas-docs/stable/user_guide/indexing.html#returning-a-view-versus-a-copy\n",
      "  vulcdf[\"Word\"].loc[0] = \"vulcanus (106)\"\n",
      "C:\\Users\\johed\\AppData\\Local\\Temp\\ipykernel_37480\\93047715.py:3: SettingWithCopyWarning: \n",
      "A value is trying to be set on a copy of a slice from a DataFrame\n",
      "\n",
      "See the caveats in the documentation: https://pandas.pydata.org/pandas-docs/stable/user_guide/indexing.html#returning-a-view-versus-a-copy\n",
      "  vulcdf[\"Occurrences\"].loc[0] = 106\n",
      "C:\\Users\\johed\\AppData\\Local\\Temp\\ipykernel_37480\\93047715.py:4: SettingWithCopyWarning: \n",
      "A value is trying to be set on a copy of a slice from a DataFrame\n",
      "\n",
      "See the caveats in the documentation: https://pandas.pydata.org/pandas-docs/stable/user_guide/indexing.html#returning-a-view-versus-a-copy\n",
      "  vulcdf[\"Word\"].loc[1] = \"ding (120)\"\n",
      "C:\\Users\\johed\\AppData\\Local\\Temp\\ipykernel_37480\\93047715.py:5: SettingWithCopyWarning: \n",
      "A value is trying to be set on a copy of a slice from a DataFrame\n",
      "\n",
      "See the caveats in the documentation: https://pandas.pydata.org/pandas-docs/stable/user_guide/indexing.html#returning-a-view-versus-a-copy\n",
      "  vulcdf[\"Occurrences\"].loc[1] = 120\n",
      "C:\\Users\\johed\\AppData\\Local\\Temp\\ipykernel_37480\\93047715.py:6: SettingWithCopyWarning: \n",
      "A value is trying to be set on a copy of a slice from a DataFrame\n",
      "\n",
      "See the caveats in the documentation: https://pandas.pydata.org/pandas-docs/stable/user_guide/indexing.html#returning-a-view-versus-a-copy\n",
      "  vulcdf[\"Word\"].loc[2] = \"natur (99)\"\n",
      "C:\\Users\\johed\\AppData\\Local\\Temp\\ipykernel_37480\\93047715.py:7: SettingWithCopyWarning: \n",
      "A value is trying to be set on a copy of a slice from a DataFrame\n",
      "\n",
      "See the caveats in the documentation: https://pandas.pydata.org/pandas-docs/stable/user_guide/indexing.html#returning-a-view-versus-a-copy\n",
      "  vulcdf[\"Word\"].loc[3] = \"menschen (99)\"\n",
      "C:\\Users\\johed\\AppData\\Local\\Temp\\ipykernel_37480\\93047715.py:8: SettingWithCopyWarning: \n",
      "A value is trying to be set on a copy of a slice from a DataFrame\n",
      "\n",
      "See the caveats in the documentation: https://pandas.pydata.org/pandas-docs/stable/user_guide/indexing.html#returning-a-view-versus-a-copy\n",
      "  vulcdf[\"Word\"].loc[4] = \"macht (93)\"\n",
      "C:\\Users\\johed\\AppData\\Local\\Temp\\ipykernel_37480\\93047715.py:9: SettingWithCopyWarning: \n",
      "A value is trying to be set on a copy of a slice from a DataFrame\n",
      "\n",
      "See the caveats in the documentation: https://pandas.pydata.org/pandas-docs/stable/user_guide/indexing.html#returning-a-view-versus-a-copy\n",
      "  vulcdf[\"Word\"].loc[5] = \"fewr (90)\"\n",
      "C:\\Users\\johed\\AppData\\Local\\Temp\\ipykernel_37480\\93047715.py:10: SettingWithCopyWarning: \n",
      "A value is trying to be set on a copy of a slice from a DataFrame\n",
      "\n",
      "See the caveats in the documentation: https://pandas.pydata.org/pandas-docs/stable/user_guide/indexing.html#returning-a-view-versus-a-copy\n",
      "  vulcdf[\"Word\"].loc[6] = \"mensch (84)\"\n",
      "C:\\Users\\johed\\AppData\\Local\\Temp\\ipykernel_37480\\93047715.py:11: SettingWithCopyWarning: \n",
      "A value is trying to be set on a copy of a slice from a DataFrame\n",
      "\n",
      "See the caveats in the documentation: https://pandas.pydata.org/pandas-docs/stable/user_guide/indexing.html#returning-a-view-versus-a-copy\n",
      "  vulcdf[\"Word\"].loc[7] = \"kunst (84)\"\n",
      "C:\\Users\\johed\\AppData\\Local\\Temp\\ipykernel_37480\\93047715.py:12: SettingWithCopyWarning: \n",
      "A value is trying to be set on a copy of a slice from a DataFrame\n",
      "\n",
      "See the caveats in the documentation: https://pandas.pydata.org/pandas-docs/stable/user_guide/indexing.html#returning-a-view-versus-a-copy\n",
      "  vulcdf[\"Word\"].loc[8] = \"holtz (62)\"\n",
      "C:\\Users\\johed\\AppData\\Local\\Temp\\ipykernel_37480\\93047715.py:13: SettingWithCopyWarning: \n",
      "A value is trying to be set on a copy of a slice from a DataFrame\n",
      "\n",
      "See the caveats in the documentation: https://pandas.pydata.org/pandas-docs/stable/user_guide/indexing.html#returning-a-view-versus-a-copy\n",
      "  vulcdf[\"Word\"].loc[9] = \"materia (60)\"\n",
      "C:\\Users\\johed\\AppData\\Local\\Temp\\ipykernel_37480\\93047715.py:14: SettingWithCopyWarning: \n",
      "A value is trying to be set on a copy of a slice from a DataFrame\n",
      "\n",
      "See the caveats in the documentation: https://pandas.pydata.org/pandas-docs/stable/user_guide/indexing.html#returning-a-view-versus-a-copy\n",
      "  vulcdf[\"Word\"].loc[10] = \"arth (59)\"\n",
      "C:\\Users\\johed\\AppData\\Local\\Temp\\ipykernel_37480\\93047715.py:15: SettingWithCopyWarning: \n",
      "A value is trying to be set on a copy of a slice from a DataFrame\n",
      "\n",
      "See the caveats in the documentation: https://pandas.pydata.org/pandas-docs/stable/user_guide/indexing.html#returning-a-view-versus-a-copy\n",
      "  vulcdf[\"Word\"].loc[11] = \"artzney (58)\"\n",
      "C:\\Users\\johed\\AppData\\Local\\Temp\\ipykernel_37480\\93047715.py:16: SettingWithCopyWarning: \n",
      "A value is trying to be set on a copy of a slice from a DataFrame\n",
      "\n",
      "See the caveats in the documentation: https://pandas.pydata.org/pandas-docs/stable/user_guide/indexing.html#returning-a-view-versus-a-copy\n",
      "  vulcdf[\"Word\"].loc[12] = \"materiam (56)\"\n",
      "C:\\Users\\johed\\AppData\\Local\\Temp\\ipykernel_37480\\93047715.py:17: SettingWithCopyWarning: \n",
      "A value is trying to be set on a copy of a slice from a DataFrame\n",
      "\n",
      "See the caveats in the documentation: https://pandas.pydata.org/pandas-docs/stable/user_guide/indexing.html#returning-a-view-versus-a-copy\n",
      "  vulcdf[\"Word\"].loc[13] = \"sulphur (53)\"\n",
      "C:\\Users\\johed\\AppData\\Local\\Temp\\ipykernel_37480\\93047715.py:18: SettingWithCopyWarning: \n",
      "A value is trying to be set on a copy of a slice from a DataFrame\n",
      "\n",
      "See the caveats in the documentation: https://pandas.pydata.org/pandas-docs/stable/user_guide/indexing.html#returning-a-view-versus-a-copy\n",
      "  vulcdf[\"Word\"].loc[14] = \"wesen (49)\"\n",
      "C:\\Users\\johed\\AppData\\Local\\Temp\\ipykernel_37480\\93047715.py:19: SettingWithCopyWarning: \n",
      "A value is trying to be set on a copy of a slice from a DataFrame\n",
      "\n",
      "See the caveats in the documentation: https://pandas.pydata.org/pandas-docs/stable/user_guide/indexing.html#returning-a-view-versus-a-copy\n",
      "  vulcdf[\"Word\"].loc[15] = \"gott (48)\"\n",
      "C:\\Users\\johed\\AppData\\Local\\Temp\\ipykernel_37480\\93047715.py:20: SettingWithCopyWarning: \n",
      "A value is trying to be set on a copy of a slice from a DataFrame\n",
      "\n",
      "See the caveats in the documentation: https://pandas.pydata.org/pandas-docs/stable/user_guide/indexing.html#returning-a-view-versus-a-copy\n",
      "  vulcdf[\"Word\"].loc[16] = \"wasser (48)\"\n",
      "C:\\Users\\johed\\AppData\\Local\\Temp\\ipykernel_37480\\93047715.py:21: SettingWithCopyWarning: \n",
      "A value is trying to be set on a copy of a slice from a DataFrame\n",
      "\n",
      "See the caveats in the documentation: https://pandas.pydata.org/pandas-docs/stable/user_guide/indexing.html#returning-a-view-versus-a-copy\n",
      "  vulcdf[\"Word\"].loc[17] = \"ersten (46)\"\n",
      "C:\\Users\\johed\\AppData\\Local\\Temp\\ipykernel_37480\\93047715.py:22: SettingWithCopyWarning: \n",
      "A value is trying to be set on a copy of a slice from a DataFrame\n",
      "\n",
      "See the caveats in the documentation: https://pandas.pydata.org/pandas-docs/stable/user_guide/indexing.html#returning-a-view-versus-a-copy\n",
      "  vulcdf[\"Word\"].loc[18] = \"wissen (46)\"\n",
      "C:\\Users\\johed\\AppData\\Local\\Temp\\ipykernel_37480\\93047715.py:23: SettingWithCopyWarning: \n",
      "A value is trying to be set on a copy of a slice from a DataFrame\n",
      "\n",
      "See the caveats in the documentation: https://pandas.pydata.org/pandas-docs/stable/user_guide/indexing.html#returning-a-view-versus-a-copy\n",
      "  vulcdf[\"Word\"].loc[19] = \"meister (45)\"\n",
      "C:\\Users\\johed\\AppData\\Local\\Temp\\ipykernel_37480\\93047715.py:24: SettingWithCopyWarning: \n",
      "A value is trying to be set on a copy of a slice from a DataFrame\n",
      "\n",
      "See the caveats in the documentation: https://pandas.pydata.org/pandas-docs/stable/user_guide/indexing.html#returning-a-view-versus-a-copy\n",
      "  vulcdf[\"Word\"].loc[20] = \"vltimam (43)\"\n"
     ]
    }
   ],
   "source": [
    "\"\"\"Here I'm preparing the data for squarify. I switched the first position of ding with vulcanus for visualisation purposes\"\"\"\n",
    "vulcdf[\"Word\"].loc[0] = \"vulcanus (106)\"\n",
    "vulcdf[\"Occurrences\"].loc[0] = 106\n",
    "vulcdf[\"Word\"].loc[1] = \"ding (120)\"\n",
    "vulcdf[\"Occurrences\"].loc[1] = 120\n",
    "vulcdf[\"Word\"].loc[2] = \"natur (99)\"\n",
    "vulcdf[\"Word\"].loc[3] = \"menschen (99)\"\n",
    "vulcdf[\"Word\"].loc[4] = \"macht (93)\"\n",
    "vulcdf[\"Word\"].loc[5] = \"fewr (90)\"\n",
    "vulcdf[\"Word\"].loc[6] = \"mensch (84)\"\n",
    "vulcdf[\"Word\"].loc[7] = \"kunst (84)\"\n",
    "vulcdf[\"Word\"].loc[8] = \"holtz (62)\"\n",
    "vulcdf[\"Word\"].loc[9] = \"materia (60)\"\n",
    "vulcdf[\"Word\"].loc[10] = \"arth (59)\"\n",
    "vulcdf[\"Word\"].loc[11] = \"artzney (58)\"\n",
    "vulcdf[\"Word\"].loc[12] = \"materiam (56)\"\n",
    "vulcdf[\"Word\"].loc[13] = \"sulphur (53)\"\n",
    "vulcdf[\"Word\"].loc[14] = \"wesen (49)\"\n",
    "vulcdf[\"Word\"].loc[15] = \"gott (48)\"\n",
    "vulcdf[\"Word\"].loc[16] = \"wasser (48)\"\n",
    "vulcdf[\"Word\"].loc[17] = \"ersten (46)\"\n",
    "vulcdf[\"Word\"].loc[18] = \"wissen (46)\"\n",
    "vulcdf[\"Word\"].loc[19] = \"meister (45)\"\n",
    "vulcdf[\"Word\"].loc[20] = \"vltimam (43)\"\n"
   ]
  },
  {
   "cell_type": "code",
   "execution_count": 42,
   "id": "038dbf87",
   "metadata": {},
   "outputs": [
    {
     "name": "stdout",
     "output_type": "stream",
     "text": [
      "              Word  Occurrences\n",
      "0   vulcanus (106)          106\n",
      "1       ding (120)          120\n",
      "2       natur (99)           99\n",
      "3    menschen (99)           99\n",
      "4       macht (93)           93\n",
      "5        fewr (90)           90\n",
      "6      mensch (84)           84\n",
      "7       kunst (84)           84\n",
      "8       holtz (62)           62\n",
      "9     materia (60)           60\n",
      "10       arth (59)           59\n",
      "11    artzney (58)           58\n",
      "12   materiam (56)           56\n",
      "13    sulphur (53)           53\n",
      "14      wesen (49)           49\n",
      "15       gott (48)           48\n",
      "16     wasser (48)           48\n",
      "17     ersten (46)           46\n",
      "18     wissen (46)           46\n",
      "19    meister (45)           45\n",
      "20    vltimam (43)           43\n"
     ]
    }
   ],
   "source": [
    "print(vulcdf)"
   ]
  },
  {
   "cell_type": "code",
   "execution_count": 44,
   "id": "a2bd1926",
   "metadata": {},
   "outputs": [],
   "source": [
    "\"\"\"Changing colour scheme in Squarify\"\"\"\n",
    "colors = ['#b7094c','#91DCEA', '#64CDCC', '#5FBB68','#F9D23C', '#F9A729', '#FD6F30', '#e8ac65','#e76f51','#ef233c']"
   ]
  },
  {
   "cell_type": "code",
   "execution_count": 49,
   "id": "380ed154",
   "metadata": {},
   "outputs": [
    {
     "data": {
      "image/png": "[encoded data removed]",
      "text/plain": [
       "<Figure size 640x480 with 1 Axes>"
      ]
     },
     "metadata": {},
     "output_type": "display_data"
    }
   ],
   "source": [
    "sns.set_style(style=\"whitegrid\") # set seaborn plot style\n",
    "sizes= vulcdf[\"Occurrences\"].values# proportions of the categories\n",
    "label=vulcdf[\"Word\"]\n",
    "squarify.plot(sizes=sizes, label=label, alpha=0.5,color=colors, ec = 'black').set(title='Vulcanus Treemap')\n",
    "plt.axis('off')\n",
    "plt.show()"
   ]
  },
  {
   "cell_type": "code",
   "execution_count": 50,
   "id": "a545d1a4",
   "metadata": {},
   "outputs": [],
   "source": [
    "\"\"\"Here I saved the vulcan list to JSON for easy retrieval\"\"\"\n",
    "\n",
    "with open(\"Paracelsus/vulcanus.json\", 'w') as f:\n",
    "    # indent=2 is not needed but makes the file human-readable if the data is nested\n",
    "    json.dump(listvulc, f, indent=2) "
   ]
  },
  {
   "cell_type": "markdown",
   "id": "ce7bcbd3",
   "metadata": {},
   "source": [
    "### Archeus"
   ]
  },
  {
   "cell_type": "code",
   "execution_count": 51,
   "id": "2277412f",
   "metadata": {},
   "outputs": [
    {
     "name": "stdout",
     "output_type": "stream",
     "text": [
      "240\n",
      "['archeus', 'archeo', 'archeischen', 'archeus', 'archeus', 'archeus', 'archeus', 'archeus', 'archei', 'archelaus', 'archeo', 'archelaus', 'archeus', 'archeus', 'archeus', 'archeus', 'archeus', 'archeus', 'archeus', 'archeus', 'archei', 'archeum', 'archei', 'archeus', 'archeus', 'archeum', 'archeum', 'archeo', 'archeo', 'archeum', 'archeo', 'archei', 'archei', 'archei', 'archei', 'archei', 'archeus', 'archei', 'archei', 'archeum', 'archeus', 'archeitatem', 'archeitas', 'archeitas', 'archeitas', 'archelai', 'archeitet', 'archelaisch', 'archeum', 'archeo', 'archeum', 'archeischer', 'archeus', 'archeus', 'archei', 'archei', 'archeus', 'archeo', 'archeus', 'archeus', 'archelao', 'archeitatem', 'archeitas', 'archeitas', 'archeitate', 'archeitas', 'archeus', 'archeo', 'archei', 'arche', 'archeo', 'archeischen', 'archelai', 'archeitas', 'archelai', 'archeum', 'archei', 'archeus', 'archelaus', 'archelaus', 'archeus', 'archei', 'archeicum', 'archelaisch', 'archeus', 'archei', 'archeum', 'archeus', 'archeus', 'archeum', 'archeus', 'archeus', 'archeo', 'archeus', 'archeus', 'archeus', 'archelaum', 'archeus', 'archeus', 'archeus', 'archeus', 'archeus', 'archeus', 'archeicam', 'archeus', 'archeus', 'archeum', 'archei', 'archeus', 'archeum', 'archei', 'archevs', 'archei', 'archeus', 'archeus', 'archeus', 'archevs', 'archeus', 'archeo', 'archei', 'archei', 'archei', 'archei', 'archei', 'archeum', 'archeum', 'archeus', 'archeo', 'archeus', 'archeus', 'archeum', 'archeo', 'archeo', 'archeo', 'archeus', 'archeo', 'archeus', 'archeus', 'archeus', 'archeum', 'archeus', 'archeus', 'archeus', 'archeum', 'archeum', 'archeus', 'archeo', 'archeus', 'archeum', 'archeo', 'archeus', 'archei', 'archeus', 'archeus', 'archeus', 'archeus', 'archeum', 'archeo', 'archeo', 'archei', 'archeo', 'archeus', 'archeum', 'archeum', 'archeus', 'archeum', 'archeus', 'archeus', 'archeum', 'archeus', 'archeum', 'archeo', 'archeus', 'archeus', 'archeus', 'archeus', 'archeus', 'archeus', 'archeus', 'archeus', 'archeus', 'archeum', 'archeus', 'archeo', 'archeus', 'archeus', 'archei', 'archeus', 'archeus', 'archeus', 'archen', 'archeus', 'archeum', 'archeus', 'archeus', 'archeum', 'archeum', 'archeus', 'archeus', 'archen', 'archeum', 'archeus', 'archeus', 'archeus', 'archeum', 'archeum', 'archeische', 'archeus', 'archeus', 'archeus', 'archeum', 'archeus', 'archeum', 'archeites', 'archeischen', 'archelaus', 'archeo', 'archeischem', 'archeum', 'archeum', 'archei', 'archeischen', 'archeo', 'archeum', 'archeisch', 'archeischen', 'archei', 'archeischen', 'archelaus', 'archelaus', 'archelaum', 'archelaus', 'archei', 'archei', 'archeisch', 'archeus', 'archeus', 'archeus', 'archeus', 'archeus']\n"
     ]
    }
   ],
   "source": [
    "matches = re.findall(r'\\b[a][r][c][h][e][a-z]{0,6}', strlowercase)\n",
    "i=0\n",
    "listarch=[]\n",
    "for match1 in matches:\n",
    "    listarch.append(match1)\n",
    "    i=i+1\n",
    "\n",
    "print(i)\n",
    "print (listarch)"
   ]
  },
  {
   "cell_type": "code",
   "execution_count": 53,
   "id": "6ccbf29f",
   "metadata": {},
   "outputs": [
    {
     "name": "stdout",
     "output_type": "stream",
     "text": [
      "Displaying 8 of 8 matches:\n",
      "ch berühmen zusein das ist jünger was setzt hermes vnd archelaus von vitriolo groß tugendt vnd es ist war sie sind in j\n",
      "ner speculation also auch thomas vnd ander hermes vnnd archelaus das wissen jhr artzt all jhr müssen solche ding leer v\n",
      "rediderunt aberret quibus imposuit euentus quemadmodum archelaus habet nos autem hoc loco asserimus rubeam lepram à mer\n",
      "tiæ nolim hoc loco admittas rationem extractionis quam archelaus præscribit neque id genus alias separationes spagyrica\n",
      "r dann eingesotten ist so wirdt ein oleitas da welcher archelaus auch gedenckt squinantiae cura vnd aller kranckheiten \n",
      "b so es eingesotten wirds zu einer oleitet darvon dann archelaus auch geschriben capvt l. de fugile vel fugilico aposte\n",
      "rtis vnd ist ein anzeigung des anfangs noli me tangere archelaus heissets fuliginem hermes nambsets ferruginem wir aber\n",
      "um de venenis eundem est recipe terdoliae quae utuntur archelaus geberus est angelica quae est ostritium transplantatum\n"
     ]
    }
   ],
   "source": [
    "\"\"\"Checking relevancy of some of the words\"\"\"\n",
    "wordtext.concordance(\"archelaus\", width=120, lines=10)"
   ]
  },
  {
   "cell_type": "code",
   "execution_count": 54,
   "id": "e6ea5839",
   "metadata": {},
   "outputs": [
    {
     "name": "stdout",
     "output_type": "stream",
     "text": [
      "223\n",
      "['archeus', 'archeo', 'archeischen', 'archeus', 'archeus', 'archeus', 'archeus', 'archeus', 'archei', 'archeo', 'archeus', 'archeus', 'archeus', 'archeus', 'archeus', 'archeus', 'archeus', 'archeus', 'archei', 'archeum', 'archei', 'archeus', 'archeus', 'archeum', 'archeum', 'archeo', 'archeo', 'archeum', 'archeo', 'archei', 'archei', 'archei', 'archei', 'archei', 'archeus', 'archei', 'archei', 'archeum', 'archeus', 'archeitatem', 'archeitas', 'archeitas', 'archeitas', 'archeitet', 'archeum', 'archeo', 'archeum', 'archeischer', 'archeus', 'archeus', 'archei', 'archei', 'archeus', 'archeo', 'archeus', 'archeus', 'archeitatem', 'archeitas', 'archeitas', 'archeitate', 'archeitas', 'archeus', 'archeo', 'archei', 'archeo', 'archeischen', 'archeitas', 'archeum', 'archei', 'archeus', 'archeus', 'archei', 'archeicum', 'archeus', 'archei', 'archeum', 'archeus', 'archeus', 'archeum', 'archeus', 'archeus', 'archeo', 'archeus', 'archeus', 'archeus', 'archeus', 'archeus', 'archeus', 'archeus', 'archeus', 'archeus', 'archeicam', 'archeus', 'archeus', 'archeum', 'archei', 'archeus', 'archeum', 'archei', 'archevs', 'archei', 'archeus', 'archeus', 'archeus', 'archevs', 'archeus', 'archeo', 'archei', 'archei', 'archei', 'archei', 'archei', 'archeum', 'archeum', 'archeus', 'archeo', 'archeus', 'archeus', 'archeum', 'archeo', 'archeo', 'archeo', 'archeus', 'archeo', 'archeus', 'archeus', 'archeus', 'archeum', 'archeus', 'archeus', 'archeus', 'archeum', 'archeum', 'archeus', 'archeo', 'archeus', 'archeum', 'archeo', 'archeus', 'archei', 'archeus', 'archeus', 'archeus', 'archeus', 'archeum', 'archeo', 'archeo', 'archei', 'archeo', 'archeus', 'archeum', 'archeum', 'archeus', 'archeum', 'archeus', 'archeus', 'archeum', 'archeus', 'archeum', 'archeo', 'archeus', 'archeus', 'archeus', 'archeus', 'archeus', 'archeus', 'archeus', 'archeus', 'archeus', 'archeum', 'archeus', 'archeo', 'archeus', 'archeus', 'archei', 'archeus', 'archeus', 'archeus', 'archen', 'archeus', 'archeum', 'archeus', 'archeus', 'archeum', 'archeum', 'archeus', 'archeus', 'archen', 'archeum', 'archeus', 'archeus', 'archeus', 'archeum', 'archeum', 'archeische', 'archeus', 'archeus', 'archeus', 'archeum', 'archeus', 'archeum', 'archeites', 'archeischen', 'archeo', 'archeischem', 'archeum', 'archeum', 'archei', 'archeischen', 'archeo', 'archeum', 'archeisch', 'archeischen', 'archei', 'archeischen', 'archei', 'archei', 'archeisch', 'archeus', 'archeus', 'archeus', 'archeus', 'archeus']\n"
     ]
    }
   ],
   "source": [
    "\"\"\"I reduced the list by removing variants of archelaus as well as anything that has a space after arche-\"\"\"\n",
    "matches = re.findall(r'\\b[a][r][c][h][e][^l^\\s][a-z]{0,6}', strlowercase)\n",
    "i=0\n",
    "listarch=[]\n",
    "for match1 in matches:\n",
    "    listarch.append(match1)\n",
    "    i=i+1\n",
    "\n",
    "print(i)\n",
    "print (listarch)"
   ]
  },
  {
   "cell_type": "code",
   "execution_count": 55,
   "id": "615068d9",
   "metadata": {},
   "outputs": [
    {
     "name": "stdout",
     "output_type": "stream",
     "text": [
      "3\n",
      "['archaeipsa', 'archaegrata', 'archaeus']\n"
     ]
    }
   ],
   "source": [
    "\"\"\"Looking for variants of archaeus\"\"\" \n",
    "\n",
    "matches = re.findall(r'[a][r][c][h][a][e][a-z]{1,6}', strlowercase)\n",
    "i=0\n",
    "listarchae=[]\n",
    "for match1 in matches:\n",
    "    listarchae.append(match1)\n",
    "    i=i+1\n",
    "\n",
    "print(i)\n",
    "print (listarchae)"
   ]
  },
  {
   "cell_type": "code",
   "execution_count": 56,
   "id": "9898533b",
   "metadata": {},
   "outputs": [
    {
     "name": "stdout",
     "output_type": "stream",
     "text": [
      "Displaying 1 of 1 matches:\n",
      "d was die andern drey gegeben haben vnnd werden vnd was archaeus terrae leiden muß vnnd der spara nympharum vnd der chao\n"
     ]
    }
   ],
   "source": [
    "wordtext.concordance(\"archaeus\", width=120, lines=1)"
   ]
  },
  {
   "cell_type": "code",
   "execution_count": 58,
   "id": "6b9596e7",
   "metadata": {},
   "outputs": [
    {
     "name": "stdout",
     "output_type": "stream",
     "text": [
      "['archeus', 'archeo', 'archeischen', 'archeus', 'archeus', 'archeus', 'archeus', 'archeus', 'archei', 'archeo', 'archeus', 'archeus', 'archeus', 'archeus', 'archeus', 'archeus', 'archeus', 'archeus', 'archei', 'archeum', 'archei', 'archeus', 'archeus', 'archeum', 'archeum', 'archeo', 'archeo', 'archeum', 'archeo', 'archei', 'archei', 'archei', 'archei', 'archei', 'archeus', 'archei', 'archei', 'archeum', 'archeus', 'archeitatem', 'archeitas', 'archeitas', 'archeitas', 'archeitet', 'archeum', 'archeo', 'archeum', 'archeischer', 'archeus', 'archeus', 'archei', 'archei', 'archeus', 'archeo', 'archeus', 'archeus', 'archeitatem', 'archeitas', 'archeitas', 'archeitate', 'archeitas', 'archeus', 'archeo', 'archei', 'archeo', 'archeischen', 'archeitas', 'archeum', 'archei', 'archeus', 'archeus', 'archei', 'archeicum', 'archeus', 'archei', 'archeum', 'archeus', 'archeus', 'archeum', 'archeus', 'archeus', 'archeo', 'archeus', 'archeus', 'archeus', 'archeus', 'archeus', 'archeus', 'archeus', 'archeus', 'archeus', 'archeicam', 'archeus', 'archeus', 'archeum', 'archei', 'archeus', 'archeum', 'archei', 'archevs', 'archei', 'archeus', 'archeus', 'archeus', 'archevs', 'archeus', 'archeo', 'archei', 'archei', 'archei', 'archei', 'archei', 'archeum', 'archeum', 'archeus', 'archeo', 'archeus', 'archeus', 'archeum', 'archeo', 'archeo', 'archeo', 'archeus', 'archeo', 'archeus', 'archeus', 'archeus', 'archeum', 'archeus', 'archeus', 'archeus', 'archeum', 'archeum', 'archeus', 'archeo', 'archeus', 'archeum', 'archeo', 'archeus', 'archei', 'archeus', 'archeus', 'archeus', 'archeus', 'archeum', 'archeo', 'archeo', 'archei', 'archeo', 'archeus', 'archeum', 'archeum', 'archeus', 'archeum', 'archeus', 'archeus', 'archeum', 'archeus', 'archeum', 'archeo', 'archeus', 'archeus', 'archeus', 'archeus', 'archeus', 'archeus', 'archeus', 'archeus', 'archeus', 'archeum', 'archeus', 'archeo', 'archeus', 'archeus', 'archei', 'archeus', 'archeus', 'archeus', 'archen', 'archeus', 'archeum', 'archeus', 'archeus', 'archeum', 'archeum', 'archeus', 'archeus', 'archen', 'archeum', 'archeus', 'archeus', 'archeus', 'archeum', 'archeum', 'archeische', 'archeus', 'archeus', 'archeus', 'archeum', 'archeus', 'archeum', 'archeites', 'archeischen', 'archeo', 'archeischem', 'archeum', 'archeum', 'archei', 'archeischen', 'archeo', 'archeum', 'archeisch', 'archeischen', 'archei', 'archeischen', 'archei', 'archei', 'archeisch', 'archeus', 'archeus', 'archeus', 'archeus', 'archeus', 'archaeus', 'archaeus']\n"
     ]
    }
   ],
   "source": [
    "\"\"\"Adding archaeus to the list\"\"\"\n",
    "listarch.append (\"archaeus\")\n",
    "print(listarch)"
   ]
  },
  {
   "cell_type": "code",
   "execution_count": 59,
   "id": "2dce47f0",
   "metadata": {},
   "outputs": [
    {
     "name": "stdout",
     "output_type": "stream",
     "text": [
      "Displaying 2 of 2 matches:\n",
      "dazumahl azot vnnd war sy sy sy gleich wie in einer arca archen verschlossen vnnd solch einzig stücke war erstlich an jh\n",
      "keit wegen geursacht vnd seind die sündfluß noë aber der archen seind wir beraubt da muß schuldig vnd vnschuldig mit ein\n"
     ]
    }
   ],
   "source": [
    "wordtext.concordance(\"archen\", width=120)"
   ]
  },
  {
   "cell_type": "code",
   "execution_count": 60,
   "id": "90e7ae72",
   "metadata": {},
   "outputs": [
    {
     "name": "stdout",
     "output_type": "stream",
     "text": [
      "['archeus', 'archeo', 'archeischen', 'archeus', 'archeus', 'archeus', 'archeus', 'archeus', 'archei', 'archeo', 'archeus', 'archeus', 'archeus', 'archeus', 'archeus', 'archeus', 'archeus', 'archeus', 'archei', 'archeum', 'archei', 'archeus', 'archeus', 'archeum', 'archeum', 'archeo', 'archeo', 'archeum', 'archeo', 'archei', 'archei', 'archei', 'archei', 'archei', 'archeus', 'archei', 'archei', 'archeum', 'archeus', 'archeitatem', 'archeitas', 'archeitas', 'archeitas', 'archeitet', 'archeum', 'archeo', 'archeum', 'archeischer', 'archeus', 'archeus', 'archei', 'archei', 'archeus', 'archeo', 'archeus', 'archeus', 'archeitatem', 'archeitas', 'archeitas', 'archeitate', 'archeitas', 'archeus', 'archeo', 'archei', 'archeo', 'archeischen', 'archeitas', 'archeum', 'archei', 'archeus', 'archeus', 'archei', 'archeicum', 'archeus', 'archei', 'archeum', 'archeus', 'archeus', 'archeum', 'archeus', 'archeus', 'archeo', 'archeus', 'archeus', 'archeus', 'archeus', 'archeus', 'archeus', 'archeus', 'archeus', 'archeus', 'archeicam', 'archeus', 'archeus', 'archeum', 'archei', 'archeus', 'archeum', 'archei', 'archevs', 'archei', 'archeus', 'archeus', 'archeus', 'archevs', 'archeus', 'archeo', 'archei', 'archei', 'archei', 'archei', 'archei', 'archeum', 'archeum', 'archeus', 'archeo', 'archeus', 'archeus', 'archeum', 'archeo', 'archeo', 'archeo', 'archeus', 'archeo', 'archeus', 'archeus', 'archeus', 'archeum', 'archeus', 'archeus', 'archeus', 'archeum', 'archeum', 'archeus', 'archeo', 'archeus', 'archeum', 'archeo', 'archeus', 'archei', 'archeus', 'archeus', 'archeus', 'archeus', 'archeum', 'archeo', 'archeo', 'archei', 'archeo', 'archeus', 'archeum', 'archeum', 'archeus', 'archeum', 'archeus', 'archeus', 'archeum', 'archeus', 'archeum', 'archeo', 'archeus', 'archeus', 'archeus', 'archeus', 'archeus', 'archeus', 'archeus', 'archeus', 'archeus', 'archeum', 'archeus', 'archeo', 'archeus', 'archeus', 'archei', 'archeus', 'archeus', 'archeus', 'archeus', 'archeum', 'archeus', 'archeus', 'archeum', 'archeum', 'archeus', 'archeus', 'archen', 'archeum', 'archeus', 'archeus', 'archeus', 'archeum', 'archeum', 'archeische', 'archeus', 'archeus', 'archeus', 'archeum', 'archeus', 'archeum', 'archeites', 'archeischen', 'archeo', 'archeischem', 'archeum', 'archeum', 'archei', 'archeischen', 'archeo', 'archeum', 'archeisch', 'archeischen', 'archei', 'archeischen', 'archei', 'archei', 'archeisch', 'archeus', 'archeus', 'archeus', 'archeus', 'archeus', 'archaeus', 'archaeus']\n"
     ]
    }
   ],
   "source": [
    "#As archen refers to Noah's ark I removed it from the list\n",
    "listarch.remove(\"archen\")\n",
    "print(listarch)"
   ]
  },
  {
   "cell_type": "code",
   "execution_count": 61,
   "id": "2e38a645",
   "metadata": {},
   "outputs": [],
   "source": [
    "\"\"\"I saved the \"arch\" list in json for easy retrieval\"\"\"\n",
    "\n",
    "with open(\"Paracelsus/archeus.json\", 'w') as f:\n",
    "    # indent=2 is not needed but makes the file human-readable if the data is nested\n",
    "    json.dump(listarch, f, indent=2) "
   ]
  },
  {
   "cell_type": "code",
   "execution_count": 62,
   "id": "d766b67e",
   "metadata": {},
   "outputs": [],
   "source": [
    "arrarch = np.array(listarch)"
   ]
  },
  {
   "cell_type": "code",
   "execution_count": 63,
   "id": "fcefe64e",
   "metadata": {},
   "outputs": [
    {
     "name": "stdout",
     "output_type": "stream",
     "text": [
      "archaeus occurs 2 times\n",
      "archei occurs 31 times\n",
      "archeicam occurs 1 times\n",
      "archeicum occurs 1 times\n",
      "archeisch occurs 2 times\n",
      "archeische occurs 1 times\n",
      "archeischem occurs 1 times\n",
      "archeischen occurs 6 times\n",
      "archeischer occurs 1 times\n",
      "archeitas occurs 7 times\n",
      "archeitate occurs 1 times\n",
      "archeitatem occurs 2 times\n",
      "archeites occurs 1 times\n",
      "archeitet occurs 1 times\n",
      "archen occurs 1 times\n",
      "archeo occurs 25 times\n",
      "archeum occurs 37 times\n",
      "archeus occurs 101 times\n",
      "archevs occurs 2 times\n"
     ]
    }
   ],
   "source": [
    "# Get the unique values and their counts\n",
    "unique_values, counts = np.unique(arrarch, return_counts=True)\n",
    "\n",
    "# Print the results\n",
    "\n",
    "for value, count in zip(unique_values, counts):\n",
    "    print(f\"{value} occurs {count} times\")\n",
    "    arch = pd.DataFrame(list(zip(unique_values, counts)))"
   ]
  },
  {
   "cell_type": "code",
   "execution_count": 64,
   "id": "8f91e06a",
   "metadata": {},
   "outputs": [
    {
     "name": "stdout",
     "output_type": "stream",
     "text": [
      "           term  occurrence\n",
      "0      archaeus           2\n",
      "1        archei          31\n",
      "2     archeicam           1\n",
      "3     archeicum           1\n",
      "4     archeisch           2\n",
      "5    archeische           1\n",
      "6   archeischem           1\n",
      "7   archeischen           6\n",
      "8   archeischer           1\n",
      "9     archeitas           7\n",
      "10   archeitate           1\n",
      "11  archeitatem           2\n",
      "12    archeites           1\n",
      "13    archeitet           1\n",
      "14       archen           1\n",
      "15       archeo          25\n",
      "16      archeum          37\n",
      "17      archeus         101\n",
      "18      archevs           2\n"
     ]
    }
   ],
   "source": [
    "arch.columns = ['term', 'occurrence']\n",
    "print(arch)"
   ]
  },
  {
   "cell_type": "code",
   "execution_count": 65,
   "id": "48a745b9",
   "metadata": {},
   "outputs": [
    {
     "name": "stdout",
     "output_type": "stream",
     "text": [
      "           term  occurrence\n",
      "17      archeus         101\n",
      "16      archeum          37\n",
      "1        archei          31\n",
      "15       archeo          25\n",
      "9     archeitas           7\n",
      "7   archeischen           6\n",
      "11  archeitatem           2\n",
      "0      archaeus           2\n",
      "4     archeisch           2\n",
      "18      archevs           2\n",
      "8   archeischer           1\n",
      "6   archeischem           1\n",
      "10   archeitate           1\n",
      "5    archeische           1\n",
      "12    archeites           1\n",
      "13    archeitet           1\n",
      "14       archen           1\n",
      "3     archeicum           1\n",
      "2     archeicam           1\n"
     ]
    }
   ],
   "source": [
    "arch.sort_values(by=[\"occurrence\"], inplace=True, ascending = False)\n",
    "print(arch)"
   ]
  },
  {
   "cell_type": "code",
   "execution_count": 66,
   "id": "63e021cb",
   "metadata": {},
   "outputs": [
    {
     "data": {
      "text/plain": [
       "Text(0, 0.5, 'occurrence')"
      ]
     },
     "execution_count": 66,
     "metadata": {},
     "output_type": "execute_result"
    },
    {
     "data": {
      "image/png": "[encoded data removed]",
      "text/plain": [
       "<Figure size 640x480 with 1 Axes>"
      ]
     },
     "metadata": {},
     "output_type": "display_data"
    }
   ],
   "source": [
    "arch.plot(x=\"term\", y=\"occurrence\", kind=\"bar\")\n",
    "plt.title(\"Occurrences\")\n",
    "plt.xlabel(\"term\")\n",
    "plt.ylabel(\"occurrence\")"
   ]
  },
  {
   "cell_type": "code",
   "execution_count": 67,
   "id": "0d7ab4e1",
   "metadata": {},
   "outputs": [
    {
     "name": "stdout",
     "output_type": "stream",
     "text": [
      "Displaying 25 of 101 matches:\n",
      " glück das jhr diesen geist verstehet so ist er als ein archeus als de archeo stehet vnd weiter hie nit melden damit wi\n",
      " darauß die speiß ist einig vnnd ist menschen speiß der archeus aber der bereits dem menschen in sein monarchey darumb \n",
      "y gefürt werde dann was die narung ist das meistert der archeus im magen vnnd macht darauß was jhm zustehet als ein sch\n",
      "en werde in jhrem wesen dann im selben orth kan sie der archeus nicht anders machen dann das auß jhr das sie ist alles \n",
      "icht zwo darumb haben sie eine primam materiam aber der archeus der ißt anders der gehet in sein monarchey des er ißt a\n",
      "was da transmutiert werde vnnd wie das ist was auch der archeus an jhm habe das er auß dem das eins ist do machet männi\n",
      "ltimam materiam durch die kunst alchimiæ also volgt der archeus der inwendig vulcanus hernach der weiß zu circulirn vnd\n",
      "rt also scheiden sich von einander der vulcanus vnd der archeus das ist alchimia das nit auff sein end kommen ist zum e\n",
      "m magicæ artis von der das vierdte buch lehret dann der archeus der natur ordinirt disen spiritum mit außtheilung in se\n",
      "achsende ding denselben liquorem an sich ziehen vnd der archeus naturæ den vnflat nicht separiert das ist er scheidet d\n",
      "tehen muß volkommen in sale vnnd mucilagine auch dz der archeus darbey sey der dann do ist an statt des schmidts welche\n",
      "n seim eignen leib allein aber an dem liget es wie sein archeus in jhm separirn wirt dann er ist derselbig der da das g\n",
      "att in jhm dermassen gehandelt zuwerden vnd dieweil der archeus im scheiden des reinen vom vnreinen nicht allmal perfec\n",
      "bsterblich wie etliche kranckheiten dann etwann ist der archeus perfect etwan imperfect also geht es darnach zu der per\n",
      "der nit geburt sonder die zerstörung geschicht also der archeus so im magen ist ist der erste anfenger nemlich so wir e\n",
      " anfenger nemlich so wir essen vnd trincken so soll der archeus dasselbig im magen scheiden also daß dz rein vom vnrein\n",
      "m menschen vnnd ligt in den vier elementen vnnd ist ein archeus vnnd ist in vier partes gesetzt sag also er ist der gro\n",
      "nd production darumb sie auch nit separiret sondern jhr archeus augmentirt vnnd generirt vnnd multiplicirt daruon leset\n",
      " männische was narung antrifft ist ein ding dieweil der archeus den frawen frawenspeiß macht vnd nit mannenspeiß vnd pr\n",
      "k billich zu führen als eine in mannen vnd frawen ander archeus zeigt ander kranckheiten dann dieweil auß der speiß etc\n",
      "euttet in generationem lapilli calculi quia in hoc loco archeus latet segregationis sua genitura quam alij lithiasin vo\n",
      "g hierinn soll auch pusta verstanden werden das ist der archeus der nieren was derselbig von newen all tag zuricht vnd \n",
      "dum resolutum est illud quod est liquidum ex primo ente archeus est natura dispensatrix rerum nutrimentum est de re put\n",
      "en das ist die kunst der sie herfür bringt also ist ein archeus do der macht die tincturen vnnd dornach so schickt er s\n",
      "on sibi aliquandiu exercuit nomen immortalitatis meruit archeus aliquot annos supra centum seipsum conseruauit id quod \n"
     ]
    }
   ],
   "source": [
    "wordtext.concordance(\"archeus\", width=120)"
   ]
  },
  {
   "cell_type": "code",
   "execution_count": 68,
   "id": "07ccaa18",
   "metadata": {},
   "outputs": [
    {
     "data": {
      "image/png": "[encoded data removed]",
      "text/plain": [
       "<Figure size 640x480 with 1 Axes>"
      ]
     },
     "metadata": {},
     "output_type": "display_data"
    }
   ],
   "source": [
    "wordtext.dispersion_plot([\"archeus\", \"vulcanus\"])"
   ]
  },
  {
   "cell_type": "code",
   "execution_count": 69,
   "id": "e9fdcbf7",
   "metadata": {},
   "outputs": [
    {
     "name": "stdout",
     "output_type": "stream",
     "text": [
      "Word: archeus, Count: 91\n",
      "Word: menschen, Count: 70\n",
      "Word: wasser, Count: 68\n",
      "Word: saltz, Count: 68\n",
      "Word: ding, Count: 64\n",
      "Word: materia, Count: 61\n",
      "Word: ersten, Count: 60\n",
      "Word: ares, Count: 60\n",
      "Word: arth, Count: 55\n",
      "Word: erden, Count: 55\n",
      "Word: artzney, Count: 52\n",
      "Word: macht, Count: 51\n",
      "Word: krafft, Count: 51\n",
      "Word: metallen, Count: 48\n",
      "Word: ligt, Count: 47\n",
      "Word: sulphur, Count: 46\n",
      "Word: natur, Count: 44\n",
      "Word: farben, Count: 43\n",
      "Word: leib, Count: 42\n",
      "Word: mercurius, Count: 41\n",
      "Word: non, Count: 41\n"
     ]
    }
   ],
   "source": [
    "\"\"\"Next I'm identifying most common co-occurrences near the word \"Archeus\" using the Counter special dictionary in Python.\"\"\"\n",
    "\n",
    "window_size = 30 # Size of the context window\n",
    "\n",
    "co_occurrences = Counter()\n",
    "\n",
    "\"\"\" Looping through each word in the cleaned-up list of the Paracelsus corpus\"\"\"\n",
    "\n",
    "for i, word in enumerate(relevantwords):\n",
    "    if word == \"archeus\" or word == \"archeo\" or word == \"archei\" or word == \"archeum\" or word == \"archeitet\" \\\n",
    "    or word == \"archevs\" or word == \"archaeus\" or word == \"archeitas\" or word == \"archeitatem\" or word == \"archeischem\" \\\n",
    "    or word == \"archeitate\" or word == \"archeites\" or word == \"archeisch\" or word == \"archeischen\" or word == \"archeischer\" \\\n",
    "    or word == \"archeische\" or word == \"archeicum\" or word == \"archeicam\":\n",
    "        # Create the window around the word\n",
    "        window = relevantwords[max(0, i - window_size):i] + relevantwords[i + 1:min(len(relevantwords), i + window_size + 1)]\n",
    "        co_occurrences.update(window)\n",
    "\n",
    "common_co_occurrences = co_occurrences.most_common(21)\n",
    "\n",
    "archeus = {} #creating a dictionary to contain the associated terms and their occurrences\n",
    "\n",
    "for word, count in common_co_occurrences:\n",
    "    archeus[word] = count\n",
    "    print(f\"Word: {word}, Count: {count}\")"
   ]
  },
  {
   "cell_type": "code",
   "execution_count": 70,
   "id": "21a07f41",
   "metadata": {},
   "outputs": [
    {
     "name": "stdout",
     "output_type": "stream",
     "text": [
      "         Word  Occurrences\n",
      "0     archeus           91\n",
      "1    menschen           70\n",
      "2      wasser           68\n",
      "3       saltz           68\n",
      "4        ding           64\n",
      "5     materia           61\n",
      "6      ersten           60\n",
      "7        ares           60\n",
      "8        arth           55\n",
      "9       erden           55\n",
      "10    artzney           52\n",
      "11      macht           51\n",
      "12     krafft           51\n",
      "13   metallen           48\n",
      "14       ligt           47\n",
      "15    sulphur           46\n",
      "16      natur           44\n",
      "17     farben           43\n",
      "18       leib           42\n",
      "19  mercurius           41\n",
      "20        non           41\n"
     ]
    }
   ],
   "source": [
    "archdf = pd.DataFrame(archeus.items(), columns=['Word', 'Occurrences'])\n",
    "print(archdf)"
   ]
  },
  {
   "cell_type": "code",
   "execution_count": 71,
   "id": "b44aea44",
   "metadata": {},
   "outputs": [
    {
     "name": "stderr",
     "output_type": "stream",
     "text": [
      "C:\\Users\\johed\\AppData\\Local\\Temp\\ipykernel_37480\\3335974875.py:2: SettingWithCopyWarning: \n",
      "A value is trying to be set on a copy of a slice from a DataFrame\n",
      "\n",
      "See the caveats in the documentation: https://pandas.pydata.org/pandas-docs/stable/user_guide/indexing.html#returning-a-view-versus-a-copy\n",
      "  archdf[\"Word\"].loc[0] = \"archeus (91)\"\n",
      "C:\\Users\\johed\\AppData\\Local\\Temp\\ipykernel_37480\\3335974875.py:3: SettingWithCopyWarning: \n",
      "A value is trying to be set on a copy of a slice from a DataFrame\n",
      "\n",
      "See the caveats in the documentation: https://pandas.pydata.org/pandas-docs/stable/user_guide/indexing.html#returning-a-view-versus-a-copy\n",
      "  archdf[\"Word\"].loc[1] = \"menschen (70)\"\n",
      "C:\\Users\\johed\\AppData\\Local\\Temp\\ipykernel_37480\\3335974875.py:4: SettingWithCopyWarning: \n",
      "A value is trying to be set on a copy of a slice from a DataFrame\n",
      "\n",
      "See the caveats in the documentation: https://pandas.pydata.org/pandas-docs/stable/user_guide/indexing.html#returning-a-view-versus-a-copy\n",
      "  archdf[\"Word\"].loc[2] = \"wasser (68)\"\n",
      "C:\\Users\\johed\\AppData\\Local\\Temp\\ipykernel_37480\\3335974875.py:5: SettingWithCopyWarning: \n",
      "A value is trying to be set on a copy of a slice from a DataFrame\n",
      "\n",
      "See the caveats in the documentation: https://pandas.pydata.org/pandas-docs/stable/user_guide/indexing.html#returning-a-view-versus-a-copy\n",
      "  archdf[\"Word\"].loc[3] = \"saltz (68)\"\n",
      "C:\\Users\\johed\\AppData\\Local\\Temp\\ipykernel_37480\\3335974875.py:6: SettingWithCopyWarning: \n",
      "A value is trying to be set on a copy of a slice from a DataFrame\n",
      "\n",
      "See the caveats in the documentation: https://pandas.pydata.org/pandas-docs/stable/user_guide/indexing.html#returning-a-view-versus-a-copy\n",
      "  archdf[\"Word\"].loc[4] = \"ding (64)\"\n",
      "C:\\Users\\johed\\AppData\\Local\\Temp\\ipykernel_37480\\3335974875.py:7: SettingWithCopyWarning: \n",
      "A value is trying to be set on a copy of a slice from a DataFrame\n",
      "\n",
      "See the caveats in the documentation: https://pandas.pydata.org/pandas-docs/stable/user_guide/indexing.html#returning-a-view-versus-a-copy\n",
      "  archdf[\"Word\"].loc[5] = \"materia (61)\"\n",
      "C:\\Users\\johed\\AppData\\Local\\Temp\\ipykernel_37480\\3335974875.py:8: SettingWithCopyWarning: \n",
      "A value is trying to be set on a copy of a slice from a DataFrame\n",
      "\n",
      "See the caveats in the documentation: https://pandas.pydata.org/pandas-docs/stable/user_guide/indexing.html#returning-a-view-versus-a-copy\n",
      "  archdf[\"Word\"].loc[6] = \"ersten (60)\"\n",
      "C:\\Users\\johed\\AppData\\Local\\Temp\\ipykernel_37480\\3335974875.py:9: SettingWithCopyWarning: \n",
      "A value is trying to be set on a copy of a slice from a DataFrame\n",
      "\n",
      "See the caveats in the documentation: https://pandas.pydata.org/pandas-docs/stable/user_guide/indexing.html#returning-a-view-versus-a-copy\n",
      "  archdf[\"Word\"].loc[7] = \"ares (60)\"\n",
      "C:\\Users\\johed\\AppData\\Local\\Temp\\ipykernel_37480\\3335974875.py:10: SettingWithCopyWarning: \n",
      "A value is trying to be set on a copy of a slice from a DataFrame\n",
      "\n",
      "See the caveats in the documentation: https://pandas.pydata.org/pandas-docs/stable/user_guide/indexing.html#returning-a-view-versus-a-copy\n",
      "  archdf[\"Word\"].loc[8] = \"arth (55)\"\n",
      "C:\\Users\\johed\\AppData\\Local\\Temp\\ipykernel_37480\\3335974875.py:11: SettingWithCopyWarning: \n",
      "A value is trying to be set on a copy of a slice from a DataFrame\n",
      "\n",
      "See the caveats in the documentation: https://pandas.pydata.org/pandas-docs/stable/user_guide/indexing.html#returning-a-view-versus-a-copy\n",
      "  archdf[\"Word\"].loc[9] = \"erden (55)\"\n",
      "C:\\Users\\johed\\AppData\\Local\\Temp\\ipykernel_37480\\3335974875.py:12: SettingWithCopyWarning: \n",
      "A value is trying to be set on a copy of a slice from a DataFrame\n",
      "\n",
      "See the caveats in the documentation: https://pandas.pydata.org/pandas-docs/stable/user_guide/indexing.html#returning-a-view-versus-a-copy\n",
      "  archdf[\"Word\"].loc[10] = \"artzney (52)\"\n",
      "C:\\Users\\johed\\AppData\\Local\\Temp\\ipykernel_37480\\3335974875.py:13: SettingWithCopyWarning: \n",
      "A value is trying to be set on a copy of a slice from a DataFrame\n",
      "\n",
      "See the caveats in the documentation: https://pandas.pydata.org/pandas-docs/stable/user_guide/indexing.html#returning-a-view-versus-a-copy\n",
      "  archdf[\"Word\"].loc[11] = \"macht (51)\"\n",
      "C:\\Users\\johed\\AppData\\Local\\Temp\\ipykernel_37480\\3335974875.py:14: SettingWithCopyWarning: \n",
      "A value is trying to be set on a copy of a slice from a DataFrame\n",
      "\n",
      "See the caveats in the documentation: https://pandas.pydata.org/pandas-docs/stable/user_guide/indexing.html#returning-a-view-versus-a-copy\n",
      "  archdf[\"Word\"].loc[12] = \"krafft (51)\"\n",
      "C:\\Users\\johed\\AppData\\Local\\Temp\\ipykernel_37480\\3335974875.py:15: SettingWithCopyWarning: \n",
      "A value is trying to be set on a copy of a slice from a DataFrame\n",
      "\n",
      "See the caveats in the documentation: https://pandas.pydata.org/pandas-docs/stable/user_guide/indexing.html#returning-a-view-versus-a-copy\n",
      "  archdf[\"Word\"].loc[13] = \"metallen (48)\"\n",
      "C:\\Users\\johed\\AppData\\Local\\Temp\\ipykernel_37480\\3335974875.py:16: SettingWithCopyWarning: \n",
      "A value is trying to be set on a copy of a slice from a DataFrame\n",
      "\n",
      "See the caveats in the documentation: https://pandas.pydata.org/pandas-docs/stable/user_guide/indexing.html#returning-a-view-versus-a-copy\n",
      "  archdf[\"Word\"].loc[14] = \"ligt (47)\"\n",
      "C:\\Users\\johed\\AppData\\Local\\Temp\\ipykernel_37480\\3335974875.py:17: SettingWithCopyWarning: \n",
      "A value is trying to be set on a copy of a slice from a DataFrame\n",
      "\n",
      "See the caveats in the documentation: https://pandas.pydata.org/pandas-docs/stable/user_guide/indexing.html#returning-a-view-versus-a-copy\n",
      "  archdf[\"Word\"].loc[15] = \"sulphur (46)\"\n",
      "C:\\Users\\johed\\AppData\\Local\\Temp\\ipykernel_37480\\3335974875.py:18: SettingWithCopyWarning: \n",
      "A value is trying to be set on a copy of a slice from a DataFrame\n",
      "\n",
      "See the caveats in the documentation: https://pandas.pydata.org/pandas-docs/stable/user_guide/indexing.html#returning-a-view-versus-a-copy\n",
      "  archdf[\"Word\"].loc[16] = \"natur (44)\"\n",
      "C:\\Users\\johed\\AppData\\Local\\Temp\\ipykernel_37480\\3335974875.py:19: SettingWithCopyWarning: \n",
      "A value is trying to be set on a copy of a slice from a DataFrame\n",
      "\n",
      "See the caveats in the documentation: https://pandas.pydata.org/pandas-docs/stable/user_guide/indexing.html#returning-a-view-versus-a-copy\n",
      "  archdf[\"Word\"].loc[17] = \"farben (43)\"\n",
      "C:\\Users\\johed\\AppData\\Local\\Temp\\ipykernel_37480\\3335974875.py:20: SettingWithCopyWarning: \n",
      "A value is trying to be set on a copy of a slice from a DataFrame\n",
      "\n",
      "See the caveats in the documentation: https://pandas.pydata.org/pandas-docs/stable/user_guide/indexing.html#returning-a-view-versus-a-copy\n",
      "  archdf[\"Word\"].loc[18] = \"leib (42)\"\n",
      "C:\\Users\\johed\\AppData\\Local\\Temp\\ipykernel_37480\\3335974875.py:21: SettingWithCopyWarning: \n",
      "A value is trying to be set on a copy of a slice from a DataFrame\n",
      "\n",
      "See the caveats in the documentation: https://pandas.pydata.org/pandas-docs/stable/user_guide/indexing.html#returning-a-view-versus-a-copy\n",
      "  archdf[\"Word\"].loc[19] = \"mercur. (41)\"\n",
      "C:\\Users\\johed\\AppData\\Local\\Temp\\ipykernel_37480\\3335974875.py:22: SettingWithCopyWarning: \n",
      "A value is trying to be set on a copy of a slice from a DataFrame\n",
      "\n",
      "See the caveats in the documentation: https://pandas.pydata.org/pandas-docs/stable/user_guide/indexing.html#returning-a-view-versus-a-copy\n",
      "  archdf[\"Word\"].loc[20] = \"non (41)\"\n"
     ]
    }
   ],
   "source": [
    "#Here I'm preparing the data for squarify\n",
    "archdf[\"Word\"].loc[0] = \"archeus (91)\"\n",
    "archdf[\"Word\"].loc[1] = \"menschen (70)\"\n",
    "archdf[\"Word\"].loc[2] = \"wasser (68)\"\n",
    "archdf[\"Word\"].loc[3] = \"saltz (68)\"\n",
    "archdf[\"Word\"].loc[4] = \"ding (64)\"\n",
    "archdf[\"Word\"].loc[5] = \"materia (61)\"\n",
    "archdf[\"Word\"].loc[6] = \"ersten (60)\"\n",
    "archdf[\"Word\"].loc[7] = \"ares (60)\"\n",
    "archdf[\"Word\"].loc[8] = \"arth (55)\"\n",
    "archdf[\"Word\"].loc[9] = \"erden (55)\"\n",
    "archdf[\"Word\"].loc[10] = \"artzney (52)\"\n",
    "archdf[\"Word\"].loc[11] = \"macht (51)\"\n",
    "archdf[\"Word\"].loc[12] = \"krafft (51)\"\n",
    "archdf[\"Word\"].loc[13] = \"metallen (48)\"\n",
    "archdf[\"Word\"].loc[14] = \"ligt (47)\"\n",
    "archdf[\"Word\"].loc[15] = \"sulphur (46)\"\n",
    "archdf[\"Word\"].loc[16] = \"natur (44)\"\n",
    "archdf[\"Word\"].loc[17] = \"farben (43)\"\n",
    "archdf[\"Word\"].loc[18] = \"leib (42)\"\n",
    "archdf[\"Word\"].loc[19] = \"mercur. (41)\"\n",
    "archdf[\"Word\"].loc[20] = \"non (41)\""
   ]
  },
  {
   "cell_type": "code",
   "execution_count": 72,
   "id": "0ea709da",
   "metadata": {},
   "outputs": [],
   "source": [
    "colors = ['#b7094c','#91DCEA', '#64CDCC', '#5FBB68','#F9D23C', '#F9A729', '#FD6F30', '#e8ac65','#e76f51','#ef233c']"
   ]
  },
  {
   "cell_type": "code",
   "execution_count": 73,
   "id": "fdf3f14d",
   "metadata": {},
   "outputs": [
    {
     "data": {
      "image/png": "[encoded data removed]",
      "text/plain": [
       "<Figure size 640x480 with 1 Axes>"
      ]
     },
     "metadata": {},
     "output_type": "display_data"
    }
   ],
   "source": [
    "sns.set_style(style=\"whitegrid\") # set seaborn plot style\n",
    "sizes= archdf[\"Occurrences\"].values# proportions of the categories\n",
    "label=archdf[\"Word\"]\n",
    "squarify.plot(sizes=sizes, label=label, alpha=0.5,color=colors, ec = 'black').set(title='Archeus Treemap')\n",
    "plt.axis('off')\n",
    "plt.show()"
   ]
  },
  {
   "cell_type": "markdown",
   "id": "60afdb88",
   "metadata": {},
   "source": [
    "### Here onwards I have been looking at iliaster, iliastes and ares"
   ]
  },
  {
   "cell_type": "code",
   "execution_count": 75,
   "id": "f3838664",
   "metadata": {},
   "outputs": [
    {
     "data": {
      "image/png": "[encoded data removed]",
      "text/plain": [
       "<Figure size 640x480 with 1 Axes>"
      ]
     },
     "metadata": {},
     "output_type": "display_data"
    }
   ],
   "source": [
    "\"\"\"Looking at iliaster and iliastes\"\"\"\n",
    "wordtext.dispersion_plot([\"archeus\", \"vulcanus\", \"iliaster\", \"iliastes\"])"
   ]
  },
  {
   "cell_type": "code",
   "execution_count": 76,
   "id": "eccc8071",
   "metadata": {},
   "outputs": [
    {
     "name": "stdout",
     "output_type": "stream",
     "text": [
      "129\n",
      "['iliaster', 'iliaster', 'iliastro', 'iliaster', 'iliastrum', 'yliastro', 'yliastri', 'yliastro', 'yliastrum', 'yliaster', 'yliastro', 'iliastro', 'iliastri', 'iliastro', 'iliastrum', 'iliaster', 'iliaster', 'iliaster', 'iliastrum', 'iliastri', 'iliastro', 'iliastri', 'iliastro', 'iliastro', 'iliastrum', 'iliastrum', 'iliastrum', 'iliastri', 'iliastro', 'iliastrum', 'iliastrinaturam', 'iliastrum', 'iliastrum', 'iliastro', 'iliaster', 'iliaster', 'iliaster', 'iliaster', 'iliastri', 'iliaster', 'yliastri', 'iliaster', 'iliastrum', 'yliaster', 'yliastrum', 'yliaster', 'yliaster', 'yliaster', 'yliastro', 'iliaster', 'iliaster', 'yliastri', 'yliastro', 'yliastri', 'yliastri', 'iliastris', 'iliaster', 'iliastren', 'yliastro', 'yliaster', 'yliastro', 'yliastro', 'yliastrum', 'yliastro', 'yliastro', 'yliaster', 'yliastro', 'yliaster', 'yliaster', 'yliastro', 'yliastro', 'yliastro', 'yliaster', 'iliastro', 'iliastro', 'iliastro', 'iliaster', 'iliaster', 'iliaster', 'iliaster', 'yliaster', 'iliastri', 'yliastro', 'yliastrvm', 'yliastro', 'iliastrisch', 'iliastrisch', 'iliastro', 'iliastrisch', 'yliaster', 'iliastrische', 'iliastrisch', 'iliastrischen', 'iliastrischen', 'iliastrische', 'iliastrischen', 'iliastrisch', 'iliastro', 'iliastrisch', 'iliastri', 'iliastri', 'iliastri', 'iliastri', 'iliastrische', 'iliastri', 'iliastri', 'iliastrisch', 'iliastri', 'iliastri', 'iliastri', 'iliastri', 'iliastri', 'iliastri', 'iliastrische', 'iliastri', 'iliastrische', 'iliastrischen', 'iliastri', 'iliastri', 'iliastrische', 'iliastrische', 'iliaster', 'iliasters', 'iliaster', 'iliaster', 'iliaster', 'iliaster', 'iliasters', 'iliastrum']\n"
     ]
    }
   ],
   "source": [
    "matches = re.findall(r'\\b[i|y][l][i][a][s][t][e|r][^s^\\s][a-z]{0,7}', strlowercase)\n",
    "i=0\n",
    "listiliaster=[]\n",
    "for match1 in matches:\n",
    "    listiliaster.append(match1)\n",
    "    i=i+1\n",
    "\n",
    "print(i)\n",
    "print (listiliaster)"
   ]
  },
  {
   "cell_type": "code",
   "execution_count": 77,
   "id": "a607dc09",
   "metadata": {},
   "outputs": [
    {
     "name": "stdout",
     "output_type": "stream",
     "text": [
      "27\n",
      "['iliastis', 'iliastis', 'iliastes', 'iliastes', 'iliastes', 'iliastis', 'iliasti tribuer', 'iliastes', 'iliastis', 'iliastes', 'iliastes', 'iliastis', 'iliaste nato', 'iliastes', 'iliastis', 'iliastes', 'iliastes', 'iliastes', 'iliastes', 'iliaste vt', 'iliastis', 'iliastes', 'iliastis', 'iliastes', 'iliastes', 'yliastes', 'yliaste primo']\n"
     ]
    }
   ],
   "source": [
    "matches = re.findall(r'\\b[i|y][l][i][a][s][t][e|i][^r][a-z]{0,7}', strlowercase)\n",
    "i=0\n",
    "listiliastes=[]\n",
    "for match1 in matches:\n",
    "    listiliastes.append(match1)\n",
    "    i=i+1\n",
    "\n",
    "print(i)\n",
    "print (listiliastes)"
   ]
  },
  {
   "cell_type": "code",
   "execution_count": 78,
   "id": "5c8ab174",
   "metadata": {},
   "outputs": [
    {
     "name": "stdout",
     "output_type": "stream",
     "text": [
      "Displaying 24 of 24 matches:\n",
      "imaginatione de vita longa quid sit aestimatio quid sit iliaster imaginationis iliadus mentis ilech ascendens magnus mag\n",
      "dus mentis ilech ascendens magnus magni euestri was der iliaster vnd euestrum solis vnnd der aquaster vt de melusina leg\n",
      "is productum est suum malum hoc est tartarum naturæ nam iliaster peperit tria in natura dolentis viscum secundæ generati\n",
      " præter quintam essentiam virtutes reperiuntur est enim iliaster sanctitus alter verò iliaster paratetus tertius autem i\n",
      "utes reperiuntur est enim iliaster sanctitus alter verò iliaster paratetus tertius autem iliaster ille magnus de priore \n",
      "r sanctitus alter verò iliaster paratetus tertius autem iliaster ille magnus de priore sic accipe quòd sanctitus ille lo\n",
      "uandoque archeus eius taphnæus ac vniuersa eorum proles iliaster cæteri per imperitum ac rudem dignosci medicum non queu\n",
      "dz wir sehen wie vielerley species gott auß dem einigen iliaster geschaffen hat wie groß sein magnalia auff erden ersche\n",
      " ist der goldtkyß species ist ein stuck für sich selbst iliaster ist die erst matery vor aller schöpffung magnalia seind\n",
      "amphora de nenuphar ij reduc ad formam in capvt qvartvm iliaster est res inseparabilis ab æuo primo vsque in vltimum ens\n",
      "eus est dispositio naturæ taphneus est medicina mundata iliaster mercurius sulphur sal ad librvm septimvm c. arcanum tre\n",
      "d das leben der geschöpff das ander anfenglich hatt der iliaster die corpora gemacht vnnd nach diesem machen das leben w\n",
      " elementen ist ein solchs zu verstahn das am ersten das iliaster zu theil getheilt ist in den lufft der ist der himmel d\n",
      "ß je eins das ander hebt braucht vnd neert also ist der iliaster getheilt das in einem domor ist der hatt zwo globeln di\n",
      "einds elementen vnnd verliern also weitter jhren nammen iliaster vnd heissen elementen viii diese vier element seind ges\n",
      " ein ander natur nit vulcanus igneus sondern es ist der iliaster vnd ist auch kein geschaffener geist noch person noch s\n",
      "sein zeug zu seiner notturfft also wissent auch das ein iliaster ist im firmament auch ein archeus mit sampt dem firmame\n",
      "ert vollkommen geschehen ist do der vulcanus ist do der iliaster dergleichen der archeus die vollenden jetzt die gantze \n",
      "e nachfolgende krafft die bleibt im selbigen so archeus iliaster vulcanus abziehen vnd es von jhnen geben das ist essent\n",
      "die kunst weiter vnderworffen sind dann gott der höchst iliaster handelt nichts wider die krafft der natur darumb jhr wi\n",
      "r in lumine naturae nie gegründet haben das jhr auß dem iliaster gemerckt hetten warinnen die natur gestanden wer oder a\n",
      " solten gelehrnet haben anfengklich was iliadus wer was iliaster vnd was der archeisch anthos were ich glaub doch das eu\n",
      "nen zuwachsen vnd zugehen in den iliadum vnd durch sein iliaster warumb wolten jhr euch dann nit zu nähen dem iliaster a\n",
      "n iliaster warumb wolten jhr euch dann nit zu nähen dem iliaster auß ewren dörnern vnd verlassen die eigensinnigkeit ewe\n"
     ]
    }
   ],
   "source": [
    "wordtext.concordance([\"iliaster\"], width=120)"
   ]
  },
  {
   "cell_type": "code",
   "execution_count": 79,
   "id": "8b6429b2",
   "metadata": {},
   "outputs": [
    {
     "name": "stdout",
     "output_type": "stream",
     "text": [
      "Displaying 14 of 14 matches:\n",
      "nquimus dum infrà ad illa venerimus porrò si impelletur iliastes ille summus aut aliquo saltem haberet opus facilè eò qu\n",
      "n æthere ac nubibus collocaretur sed semel saturauit se iliastes vt porrò non careat neque aliquo opus habeat quare in h\n",
      "que quæcunque suprà diximus quæ sub chao id quod summus iliastes existit delitescunt et in manus ea quibus de mentionem \n",
      "potuit tamen hîc præbuit occasionem id quod extrinsecus iliastes fuit caput quartum restat adhuc in hac monarchia cuius \n",
      "ra destructionem trium primarum corporis sui sicut enim iliastes in quatuor elementis velut mater producit relolleum che\n",
      "autem est congelatus similiter suo elemento quemadmodum iliastes produxit quare separationes naturæ denuò resoluunt id q\n",
      "dominatur quæ infensa est insidias struit atque hæc est iliastes idque in hanc sententiam in mineralibus hæ anatomiæ con\n",
      "tura quatuor produxerunt elementorum matrices vtpote ex iliastes iliastes prima mater est omnium rerum ex qua omnia ortu\n",
      "uor produxerunt elementorum matrices vtpote ex iliastes iliastes prima mater est omnium rerum ex qua omnia ortum habent \n",
      " mater est omnium rerum ex qua omnia ortum habent chaos iliastes constat ex mercurio sulphure sale ex viribus archei arc\n",
      "ius libri scholia in libros de gradibus compositionibus iliastes est prima materia omnium rerum constatque positus est i\n",
      "ptem tereniabin in animalibus septem membra principalia iliastes formalis item quadruplex vt testa sphæra galaxia zodiac\n",
      "t c. archevs est natura ita disposita dispositio naturæ iliastes prima materia est omnium rerum ex qua omnia ortum haben\n",
      "ia ortum habent chaos constat ex sale sulphure mercurio iliastes sunt mercurius sulphur sal cherio est ea natura qua mor\n"
     ]
    }
   ],
   "source": [
    "wordtext.concordance([\"iliastes\"], width=120)"
   ]
  },
  {
   "cell_type": "code",
   "execution_count": 80,
   "id": "6e03ab01",
   "metadata": {},
   "outputs": [
    {
     "name": "stdout",
     "output_type": "stream",
     "text": [
      "Displaying 12 of 12 matches:\n",
      "uod est resolutum coagulatum hæc externa peperit quoque yliaster tria in natura dolentis viscum secundæ generationis per\n",
      "öpfft vnnd das leben der geschöpfft anfenglich hatt der yliaster die corpora gemacht darnach das leben derselbigen dense\n",
      "fen das ander laßt er ligen also dermassen also ist der yliaster gewesen das er hatt auß dem ideos geschnitten ein mensc\n",
      "hor liber primvs de elemento aeris i. am ersten ist der yliaster getheilet worden der dann nichts ist vnd hatt geben die\n",
      "r hinauß gibt das nimpt er nit wider zu jhm aber dieser yliaster zeucht wider die element in sich das zergeht vnnd wirdt\n",
      "nocte wie vormahls steht im ersten tractat das der erst yliaster mit allen farben gestelt ist heytteri vnd schöni in ein\n",
      "im andern darumb ist daß das element terrae sein sonder yliaster die narung zu geberen vnd ist auß der vrsachen ein elem\n",
      "dann do ist gewesen dz element vnnd die andern drey ein yliaster dorinn sind gestanden element aber sie sind gescheiden \n",
      "sind gestanden element aber sie sind gescheiden vnd der yliaster zergangen dorumb weiter element nimmer bey einander sto\n",
      " auß dem von dem er gangen ist darumb durch den grossen yliaster ist die arth der elementen getheilt also das sie führen\n",
      " da ist vnnd soll zeittig sein so hebt der vulcanus vnd yliaster vnd archeus an zu bereitten in denselbigen sternen wie \n",
      "iger vnd propheten welcher als ein naturalis magus vnnd yliaster diuinus vnser necroleus vnd vorgeher ist worden in adep\n"
     ]
    }
   ],
   "source": [
    "wordtext.concordance([\"yliaster\"], width=120)"
   ]
  },
  {
   "cell_type": "code",
   "execution_count": 81,
   "id": "48cb6841",
   "metadata": {},
   "outputs": [
    {
     "name": "stdout",
     "output_type": "stream",
     "text": [
      "Displaying 1 of 1 matches:\n",
      "brino præcipitato in sulphure chironio reollino ex ares yliastes primis natura omne vulnus corrosiuum quod productum à n\n"
     ]
    }
   ],
   "source": [
    "wordtext.concordance([\"yliastes\"], width=120)"
   ]
  },
  {
   "cell_type": "code",
   "execution_count": 82,
   "id": "4bcf3e4e",
   "metadata": {},
   "outputs": [
    {
     "name": "stdout",
     "output_type": "stream",
     "text": [
      "232\n",
      "['arena', 'arenam', 'aren', 'arena', 'arena', 'areopagita', 'arena', 'arena', 'arenam', 'arenam', 'arena', 'arenam', 'arena', 'arenam', 'arena', 'arenam', 'arenae', 'arenae', 'arenam', 'arenae', 'arenam', 'arenarum', 'aren', 'arena', 'aren', 'arenarum', 'arenosa', 'aren', 'arena', 'arena', 'arenam', 'arenam', 'arenam', 'aren', 'aren', 'arena', 'arenam', 'arena', 'arena', 'arena', 'arena', 'arena', 'arena', 'arena', 'arena', 'arena', 'arena', 'arena', 'arenam', 'aren', 'aren', 'arena', 'arena', 'arena', 'arena', 'aren', 'arena', 'aren', 'arenosa', 'aren', 'arenosisch', 'arenam', 'ares', 'aren', 'arena', 'arena', 'arena', 'arena', 'aren', 'arenam', 'arescit', 'aren', 'arena', 'arenosus', 'ares', 'arena', 'arena', 'arenam', 'arenosa', 'arenosa', 'arenul', 'arena', 'arena', 'arena', 'arenam', 'arenosa', 'arenam', 'arenam', 'arena', 'arenosum', 'arena', 'arena', 'arena', 'arenam', 'aren', 'arenul', 'arenam', 'aren', 'arena', 'arena', 'arena', 'arenam', 'arenam', 'ares', 'ares', 'ares', 'ares', 'ares', 'ares', 'arenam', 'arenam', 'aren', 'aren', 'arena', 'arenam', 'ares', 'arefacit', 'ares', 'ares', 'aretem', 'aretem', 'ares', 'aretis', 'ares', 'ares', 'ares', 'ares', 'ares', 'aren', 'arena', 'aren', 'arena', 'arena', 'arenam', 'arena', 'arena', 'ares', 'ares', 'arefacit', 'ares', 'arena', 'arenam', 'aren', 'arenam', 'arena', 'arenam', 'arefactiuu', 'arenas', 'arena', 'arefit', 'ares', 'ares', 'ares', 'arenam', 'arenam', 'ares', 'ares', 'ares', 'ares', 'ares', 'ares', 'ares', 'ares', 'ares', 'ares', 'ares', 'ares', 'ares', 'ares', 'ares', 'ares', 'ares', 'ares', 'ares', 'ares', 'ares', 'ares', 'ares', 'ares', 'ares', 'ares', 'ares', 'ares', 'ares', 'ares', 'ares', 'ares', 'ares', 'ares', 'ares', 'ares', 'ares', 'areopagita', 'aren', 'areopagita', 'ares', 'ares', 'ares', 'ares', 'ares', 'arenosis', 'ares', 'ares', 'arelato', 'areboth', 'arelata', 'arelato', 'arena', 'areboth', 'arelatam', 'ares', 'arena', 'ares', 'ares', 'ares', 'ares', 'arenosis', 'arena', 'arena', 'arenam', 'arenam', 'arena', 'arenam', 'arena', 'arenam', 'arena', 'arenam', 'arenae', 'arenae', 'arenam', 'arenae', 'arenam']\n"
     ]
    }
   ],
   "source": [
    "\"\"\"Looking for ares\"\"\"\n",
    "matches = re.findall(r'\\b[a][r][e][a-z]{0,7}', strlowercase)\n",
    "i=0\n",
    "listares=[]\n",
    "for match1 in matches:\n",
    "    listares.append(match1)\n",
    "    i=i+1\n",
    "\n",
    "print(i)\n",
    "print (listares)"
   ]
  },
  {
   "cell_type": "code",
   "execution_count": 83,
   "id": "d0fd5e32",
   "metadata": {},
   "outputs": [
    {
     "name": "stdout",
     "output_type": "stream",
     "text": [
      "Displaying 1 of 1 matches:\n",
      "rtet neque verò etiam ex ingenio microcosmi sed magis ex aretis proprietate vnde etiam iliastrum deriuatur quod vi morbu\n"
     ]
    }
   ],
   "source": [
    "wordtext.concordance([\"aretis\"], width=120, lines=101)"
   ]
  },
  {
   "cell_type": "code",
   "execution_count": 84,
   "id": "69c43ffc",
   "metadata": {},
   "outputs": [
    {
     "name": "stdout",
     "output_type": "stream",
     "text": [
      "Displaying 2 of 2 matches:\n",
      "ue libris tractauimus quantum ad complexiones atque adeò aretem ipsum attinet sciendum est id vniuersum quod naturæ prob\n",
      "imis vnamquamque dosim secundùm proprium ipsius ac verum aretem vel calido consistere vel frigido vbi etiam sciendum in \n"
     ]
    }
   ],
   "source": [
    "wordtext.concordance([\"aretem\"], width=120, lines=101)"
   ]
  },
  {
   "cell_type": "code",
   "execution_count": 85,
   "id": "f2f0ca5c",
   "metadata": {},
   "outputs": [
    {
     "name": "stdout",
     "output_type": "stream",
     "text": [
      "76\n",
      "['ares', 'arescit', 'ares', 'ares', 'ares', 'ares', 'ares', 'ares', 'ares', 'ares', 'ares', 'ares', 'aretem', 'aretem', 'ares', 'aretis', 'ares', 'ares', 'ares', 'ares', 'ares', 'ares', 'ares', 'ares', 'ares', 'ares', 'ares', 'ares', 'ares', 'ares', 'ares', 'ares', 'ares', 'ares', 'ares', 'ares', 'ares', 'ares', 'ares', 'ares', 'ares', 'ares', 'ares', 'ares', 'ares', 'ares', 'ares', 'ares', 'ares', 'ares', 'ares', 'ares', 'ares', 'ares', 'ares', 'ares', 'ares', 'ares', 'ares', 'ares', 'ares', 'ares', 'ares', 'ares', 'ares', 'ares', 'ares', 'ares', 'ares', 'ares', 'ares', 'ares', 'ares', 'ares', 'ares', 'ares']\n"
     ]
    }
   ],
   "source": [
    "matches = re.findall(r'\\b[a][r][e][t|s][a-z]{0,7}', strlowercase)\n",
    "i=0\n",
    "listares=[]\n",
    "for match1 in matches:\n",
    "    listares.append(match1)\n",
    "    i=i+1\n",
    "\n",
    "print(i)\n",
    "print (listares)"
   ]
  },
  {
   "cell_type": "code",
   "execution_count": 86,
   "id": "548855ec",
   "metadata": {},
   "outputs": [
    {
     "name": "stdout",
     "output_type": "stream",
     "text": [
      "Displaying 25 of 72 matches:\n",
      "ken den yliastrum der philosophey nicht ich geschweig deß ares vos ducati homines in ewern wirdigen thalarn was will der\n",
      "r sonnen das nicht in den augen sey auß allem archeischen ares nymphischen vnd himmlischen tugenden als die sonn gibt li\n",
      "em quòd corpus esse solidum existimetur eiusmodi est enim ares vt si lupum speculatio referat lupus appareat quod quidem\n",
      "n suo nequaquam æquale est nihilo tamen ob id minus ipsum ares in se gestat huiusmodi quidem naturam rei ingenium rudes \n",
      "iuis resistit operaturque tam per chymicum quàm archeicum ares quin etiam robustissimum quodque corpus cum debilissimo t\n",
      "ssimo temperat in vno gradu robur siquidem præter roboris ares perinde est atque debilitas infra gradum ares roboris exi\n",
      "ter roboris ares perinde est atque debilitas infra gradum ares roboris existens firmiori quidem adimit quod imbecilliori\n",
      "est cui salamandrina adesse possit essentia melosinicúmve ares sed potius retorta quædam distillatio ex medio centri sup\n",
      "um humidum hæc enim sunt coniunctiones elementales quæ ex ares veniunt id quod exemplo viri patet mulieris vir in se hab\n",
      " essentia innata præscripsi tamen sunt alia præter ea quæ ares naturæ produxit id quod multis partibus præstat eo quod s\n",
      "dem archeus pro ratione ac natura priuati iliastis ita vt ares in tribus primis planè consistat generet in eadem re corp\n",
      "rum corpore primum itaque est vt seipsum curet microcosmi ares non medicamina adhibita quamprimùm enim morbus ad æqualit\n",
      "candas esse corpus siquidem cum suo specifico æqualis est ares atque idem is aniadus æquali operatione hîc se diuidit et\n",
      "culique lingua medicum efficiunt quin etiam vt regatur ex ares totus ilech opus habent nam in hoc mihi crede sita est fa\n",
      "m namque rerum omnium fine microcosmus integer quidem sit ares oportet id quod citra dictam compositionem nullo fieri pa\n",
      "uoque nonnihil laborare naturam priusquam enim totus fiat ares inimicitias quasdam archeus in seipso gerit per suum ilec\n",
      " quicquid huc attinet vt integer balsami more conseruetur ares quicquid autem porrò aut confortat aut acuit aut prolonga\n",
      "gno aut plantæ cæteris rebus omnibus res est vna vnus est ares ares iste dicitur qui formam speciem rerum ordinat dispen\n",
      "ut plantæ cæteris rebus omnibus res est vna vnus est ares ares iste dicitur qui formam speciem rerum ordinat dispensat q\n",
      "liaste vt archeus sit dispensator compositor omnium rerum ares qui disponit naturam florem caulem radicem in essato suo \n",
      "ad librvm secvndvm c. relollevm est virtus ex complexione ares est natura prima rerum nota relolleum est natura vltra pr\n",
      "io cinobrino præcipitato in sulphure chironio reollino ex ares yliastes primis natura omne vulnus corrosiuum quod produc\n",
      "hesin cinobrino etc in virtute reollacea cum chironiis ex ares yliaste primo natura quicquid naturæ corrosiuum producit \n",
      "allen kommt ist von der sonnen do hinein kommen in seinem ares zu gleicherweiß wie sich die erden nehrt der sonnen also \n",
      "len drey ersten vnd nit als im element wasser do in einem ares ligend darumb die nammen der metallen dienen auff die met\n"
     ]
    }
   ],
   "source": [
    "wordtext.concordance([\"ares\"], width=120)"
   ]
  },
  {
   "cell_type": "code",
   "execution_count": 87,
   "id": "63fdc08f",
   "metadata": {},
   "outputs": [
    {
     "data": {
      "image/png": "[encoded data removed]",
      "text/plain": [
       "<Figure size 640x480 with 1 Axes>"
      ]
     },
     "metadata": {},
     "output_type": "display_data"
    }
   ],
   "source": [
    "wordtext.dispersion_plot([\"archeus\", \"vulcanus\", \"iliaster\", \"ares\"])"
   ]
  }
 ],
 "metadata": {
  "kernelspec": {
   "display_name": "Python 3 (ipykernel)",
   "language": "python",
   "name": "python3"
  },
  "language_info": {
   "codemirror_mode": {
    "name": "ipython",
    "version": 3
   },
   "file_extension": ".py",
   "mimetype": "text/x-python",
   "name": "python",
   "nbconvert_exporter": "python",
   "pygments_lexer": "ipython3",
   "version": "3.9.13"
  }
 },
 "nbformat": 4,
 "nbformat_minor": 5
}
